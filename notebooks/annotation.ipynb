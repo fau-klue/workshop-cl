{
 "cells": [
  {
   "cell_type": "markdown",
   "metadata": {},
   "source": [
    "# Automatische Annotation von Texten\n",
    "\n",
    "## Requirements\n",
    "- trafilatura (https://trafilatura.readthedocs.io/en/latest/)\n",
    "- Stanza (https://stanfordnlp.github.io/stanza/index.html)\n",
    "- SoMaJo (https://github.com/tsproisl/SoMaJo) und SoMeWeTa (https://github.com/tsproisl/SoMeWeTa)\n",
    "- spaCy (https://spacy.io/usage)"
   ]
  },
  {
   "cell_type": "markdown",
   "metadata": {},
   "source": [
    "## Module importieren"
   ]
  },
  {
   "cell_type": "code",
   "execution_count": 1,
   "metadata": {},
   "outputs": [],
   "source": [
    "import trafilatura\n",
    "import stanza\n",
    "import somajo\n",
    "import someweta\n",
    "import spacy"
   ]
  },
  {
   "cell_type": "markdown",
   "metadata": {},
   "source": [
    "\n",
    "## Vorverarbeitung der Texte"
   ]
  },
  {
   "cell_type": "code",
   "execution_count": 2,
   "metadata": {},
   "outputs": [],
   "source": [
    "downloaded = trafilatura.fetch_url(\"https://en.wikipedia.org/wiki/Computational_linguistics\")\n",
    "cl = trafilatura.extract(downloaded)"
   ]
  },
  {
   "cell_type": "code",
   "execution_count": 3,
   "metadata": {},
   "outputs": [
    {
     "name": "stdout",
     "output_type": "stream",
     "text": [
      "Computational linguistics\n",
      "|Part of a series on|\n",
      "|Linguistics|\n",
      "|Portal|\n",
      "Computational linguistics is an interdisciplinary field concerned with the computational modelling of natural language, as well as the study of appropriate computational approaches to linguistic questions. In general, computational linguistics draws upon linguistics, computer science, artificial intelligence, mathematics, logic, philosophy, cognitive science, cognitive psychology, psycholinguistics, anthropology and neuroscience, among others.\n",
      "[edit]\n",
      "Traditionally, computational linguistics emerged as an area of artificial intelligence performed by computer scientists who had specialized in the application of computers to the processing of a natural language. With the formation of the Association for Computational Linguistics (ACL)[1] and the establishment of independent conference series, the field consolidated during the 1970s and 1980s.\n",
      "The Association for Computational Linguistics defines computational linguistics as:\n",
      "...the scientific study of language from a computational perspective. Computational linguists are interested in providing computational models of various kinds of linguistic phenomena.[2]\n",
      "The term \"computational linguistics\" is nowadays (2020) taken to be a near-synonym of natural language processing (NLP) and (human) language technology. These terms put a stronger emphasis on aspects of practical applications rather than theoretical inquiry and since the 2000s. In practice, they have largely replaced the term \"computational linguistics\" in the NLP/ACL community,[3] although they specifically refer to the sub-field of applied computational linguistics, only.\n",
      "Computational linguistics has both theoretical and applied components. Theoretical computational linguistics focuses on issues in theoretical linguistics and cognitive science.[4] Applied computational linguistics focuses on the practical outcome of modeling human language use.[4]\n",
      "Theoretical computational linguistics includes the development of formal theories of grammar (parsing) and semantics, often grounded in formal logics and symbolic (knowledge-based) approaches. Areas of research that are studied by theoretical computational linguistics include:\n",
      "- Computational complexity of natural language, largely modeled on automata theory, with the application of context-sensitive grammar and linearly bounded Turing machines.\n",
      "- Computational semantics comprises defining suitable logics for linguistic meaning representation, automatically constructing them and reasoning with them\n",
      "Applied computational linguistics is dominated by machine learning, traditionally using statistical methods, since the mid-2010s by neural networks: Socher et al. (2012)[5] was an early Deep Learning tutorial at the ACL 2012, and met with both interest and (at the time) scepticism by most participants. Until then, neural learning was basically rejected because of its lack of statistical interpretability. Until 2015, deep learning had evolved into the major framework of NLP. As for the tasks addressed by applied computational linguistics, see Natural language processing article. This includes classical problems such as the design of POS-taggers (part-of-speech taggers), parsers for natural languages, or tasks such as machine translation (MT), the sub-division of computational linguistics dealing with having computers translate between languages. As one of the earliest and most difficult applications of computational linguistics, MT draws on many subfields and both theoretical and applied aspects. Traditionally, automatic language translation has been considered a notoriously hard branch of computational linguistics.[6]\n",
      "Aside from dichotomy between theoretical and applied computational linguistics, other divisions of computational into major areas according to different criteria exist, including:\n",
      "- medium of the language being processed, whether spoken or textual: speech recognition and speech synthesis deal with how spoken language can be understood or created using computers.\n",
      "- task being performed, e.g., whether analyzing language (recognition) or synthesizing language (generation): Parsing and generation are sub-divisions of computational linguistics dealing respectively with taking language apart and putting it together.\n",
      "Traditionally, applications of computers to address research problems in other branches of linguistics have been described as tasks within computational linguistics. Among other aspects, this includes\n",
      "- Computer-aided corpus linguistics, which has been used since the 1970s as a way to make detailed advances in the field of discourse analysis[7]\n",
      "- Simulation and study of language evolution in historical linguistics/glottochronology.[8]\n",
      "Origins[edit]\n",
      "Computational linguistics is often grouped within the field of artificial intelligence but was present before the development of artificial intelligence. Computational linguistics originated with efforts in the United States in the 1950s to use computers to automatically translate texts from foreign languages, particularly Russian scientific journals, into English.[9] Since computers can make arithmetic (systematic) calculations much faster and more accurately than humans, it was thought to be only a short matter of time before they could also begin to process language.[10] Computational and quantitative methods are also used historically in the attempted reconstruction of earlier forms of modern languages and sub-grouping modern languages into language families. Earlier methods, such as lexicostatistics and glottochronology, have been proven to be premature and inaccurate. However, recent interdisciplinary studies that borrow concepts from biological studies, especially gene mapping, have proved to produce more sophisticated analytical tools and more reliable results.[11]\n",
      "When machine translation (also known as mechanical translation) failed to yield accurate translations right away, automated processing of human languages was recognized as far more complex than had originally been assumed. Computational linguistics was born as the name of the new field of study devoted to developing algorithms and software for intelligently processing language data. The term \"computational linguistics\" itself was first coined by David Hays, a founding member of both the Association for Computational Linguistics (ACL) and the International Committee on Computational Linguistics (ICCL).[12]\n",
      "To translate one language into another, it was observed that one had to understand the grammar of both languages, including both morphology (the grammar of word forms) and syntax (the grammar of sentence structure). To understand syntax, one had to also understand the semantics and the lexicon (or 'vocabulary'), and even something of the pragmatics of language use. Thus, what started as an effort to translate between languages evolved into an entire discipline devoted to understanding how to represent and process natural languages using computers.[13]\n",
      "Nowadays research within the scope of computational linguistics is done at computational linguistics departments,[14] computational linguistics laboratories,[15] computer science departments,[16] and linguistics departments.[17][18] Some research in the field of computational linguistics aims to create working speech or text processing systems while others aim to create a system allowing human-machine interaction. Programs meant for human-machine communication are called conversational agents.[19]\n",
      "Approaches[edit]\n",
      "Just as computational linguistics can be performed by experts in a variety of fields and through a wide assortment of departments, so too can the research fields broach a diverse range of topics. The following sections discuss some of the literature available across the entire field broken into four main area of discourse: developmental linguistics, structural linguistics, linguistic production, and linguistic comprehension.\n",
      "Developmental approaches[edit]\n",
      "Language is a cognitive skill that develops throughout the life of an individual. This developmental process has been examined using several techniques, and a computational approach is one of them. Human language development does provide some constraints which make it harder to apply a computational method to understanding it. For instance, during language acquisition, human children are largely only exposed to positive evidence.[20] This means that during the linguistic development of an individual, the only evidence for what is a correct form is provided, and no evidence for what is not correct. This is insufficient information for a simple hypothesis testing procedure for information as complex as language,[21] and so provides certain boundaries for a computational approach to modeling language development and acquisition in an individual.\n",
      "Attempts have been made to model the developmental process of language acquisition in children from a computational angle, leading to both statistical grammars and connectionist models.[22] Work in this realm has also been proposed as a method to explain the evolution of language through history. Using models, it has been shown that languages can be learned with a combination of simple input presented incrementally as the child develops better memory and longer attention span.[23] This was simultaneously posed as a reason for the long developmental period of human children.[23] Both conclusions were drawn because of the strength of the artificial neural network which the project created.\n",
      "The ability of infants to develop language has also been modeled using robots[24] in order to test linguistic theories. Enabled to learn as children might, a model was created based on an affordance model in which mappings between actions, perceptions, and effects were created and linked to spoken words. Crucially, these robots were able to acquire functioning word-to-meaning mappings without needing grammatical structure, vastly simplifying the learning process and shedding light on information which furthers the current understanding of linguistic development. It is important to note that this information could only have been empirically tested using a computational approach.\n",
      "As our understanding of the linguistic development of an individual within a lifetime is continually improved using neural networks and learning robotic systems, it is also important to keep in mind that languages themselves change and develop through time. Computational approaches to understanding this phenomenon have unearthed very interesting information. Using the Price equation and Pólya urn dynamics, researchers have created a system which not only predicts future linguistic evolution but also gives insight into the evolutionary history of modern-day languages.[25] This modeling effort achieved, through computational linguistics, what would otherwise have been impossible.\n",
      "It is clear that the understanding of linguistic development in humans as well as throughout evolutionary time has been fantastically improved because of advances in computational linguistics. The ability to model and modify systems at will affords science an ethical method of testing hypotheses that would otherwise be intractable.\n",
      "Structural approaches[edit]\n",
      "To create better computational models of language, an understanding of language's structure is crucial. To this end, the English language has been meticulously studied using computational approaches to better understand how the language works on a structural level. One of the most important pieces of being able to study linguistic structure is the availability of large linguistic corpora or samples. This grants computational linguists the raw data necessary to run their models and gain a better understanding of the underlying structures present in the vast amount of data which is contained in any single language. One of the most cited English linguistic corpora is the Penn Treebank.[26] Derived from widely-different sources, such as IBM computer manuals and transcribed telephone conversations, this corpus contains over 4.5 million words of American English. This corpus has been primarily annotated using part-of-speech tagging and syntactic bracketing and has yielded substantial empirical observations related to language structure.[27]\n",
      "Theoretical approaches to the structure of languages have also been developed. These works allow computational linguistics to have a framework within which to work out hypotheses that will further the understanding of the language in a myriad of ways. One of the original theoretical theses on the internalization of grammar and structure of language proposed two types of models.[21] In these models, rules or patterns learned increase in strength with the frequency of their encounter.[21] The work also created a question for computational linguists to answer: how does an infant learn a specific and non-normal grammar (Chomsky normal form) without learning an overgeneralized version and getting stuck?[21] Theoretical efforts like these set the direction for research to go early in the lifetime of a field of study, and are crucial to the growth of the field.\n",
      "Structural information about languages allows for the discovery and implementation of similarity recognition between pairs of text utterances.[28] For instance, it has recently been proven that based on the structural information present in patterns of human discourse, conceptual recurrence plots can be used to model and visualize trends in data and create reliable measures of similarity between natural textual utterances.[28] This technique is a strong tool for further probing the structure of human discourse. Without the computational approach to this question, the vastly complex information present in discourse data would have remained inaccessible to scientists.\n",
      "Information regarding the structural data of a language is available for English as well as other languages, such as Japanese.[29] Using computational methods, Japanese sentence corpora were analyzed and a pattern of log-normality was found in relation to sentence length.[29] Though the exact cause of this lognormality remains unknown, it is precisely this sort of information which computational linguistics is designed to uncover. This information could lead to further important discoveries regarding the underlying structure of Japanese and could have any number of effects on the understanding of Japanese as a language. Computational linguistics allows for very exciting additions to the scientific knowledge base to happen quickly and with very little room for doubt.\n",
      "Without a computational approach to the structure of linguistic data, much of the information that is available now would still be hidden under the vastness of data within any single language. Computational linguistics allows scientists to parse huge amounts of data reliably and efficiently, creating the possibility for discoveries unlike any seen in most other approaches.\n",
      "Production approaches[edit]\n",
      "This section possibly contains original research. (October 2015)\n",
      "The production of language is equally as complex in the information it provides and the necessary skills which a fluent producer must have. That is to say, comprehension is only half the problem of communication. The other half is how a system produces language, and computational linguistics has made interesting discoveries in this area.\n",
      "In a now famous paper published in 1950 Alan Turing proposed the possibility that machines might one day have the ability to \"think\". As a thought experiment for what might define the concept of thought in machines, he proposed an \"imitation test\" in which a human subject has two text-only conversations, one with a fellow human and another with a machine attempting to respond like a human. Turing proposes that if the subject cannot tell the difference between the human and the machine, it may be concluded that the machine is capable of thought.[30] Today this test is known as the Turing test and it remains an influential idea in the area of artificial intelligence.\n",
      "One of the earliest and best-known examples of a computer program designed to converse naturally with humans is the ELIZA program developed by Joseph Weizenbaum at MIT in 1966. The program emulated a Rogerian psychotherapist when responding to written statements and questions posed by a user. It appeared capable of understanding what was said to it and responding intelligently, but in truth, it simply followed a pattern matching routine that relied on only understanding a few keywords in each sentence. Its responses were generated by recombining the unknown parts of the sentence around properly translated versions of the known words. For example, in the phrase \"It seems that you hate me\" ELIZA understands \"you\" and \"me\" which matches the general pattern \"you [some words] me\", allowing ELIZA to update the words \"you\" and \"me\" to \"I\" and \"you\" and replying \"What makes you think I hate you?\". In this example ELIZA has no understanding of the word \"hate\", but it is not required for a logical response in the context of this type of psychotherapy.[31]\n",
      "Some projects are still trying to solve the problem which first started computational linguistics off as its field in the first place. However, methods have become more refined, and consequently, the results generated by computational linguists have become more enlightening. To improve computer translation, several models have been compared, including hidden Markov models, smoothing techniques, and the specific refinements of those to apply them to verb translation.[32] The model which was found to produce the most natural translations of German and French words was a refined alignment model with a first-order dependence and a fertility model. They also provide efficient training algorithms for the models presented, which can give other scientists the ability to improve further on their results. This type of work is specific to computational linguistics and has applications that could vastly improve understanding of how language is produced and comprehended by computers.\n",
      "Work has also been done in making computers produce language in a more naturalistic manner. Using linguistic input from humans, algorithms have been constructed which are able to modify a system's style of production based on a factor such as linguistic input from a human, or more abstract factors like politeness or any of the five main dimensions of personality.[33] This work takes a computational approach via parameter estimation models to categorize the vast array of linguistic styles we see across individuals and simplify it for a computer to work in the same way, making human–computer interaction much more natural.\n",
      "Text-based interactive approach[edit]\n",
      "Many of the earliest and simplest models of human–computer interaction, such as ELIZA for example, involve a text-based input from the user to generate a response from the computer. By this method, words typed by a user trigger the computer to recognize specific patterns and reply accordingly, through a process known as keyword spotting.\n",
      "Speech-based interactive approach[edit]\n",
      "Recent technologies have placed more of an emphasis on speech-based interactive systems. These systems, such as Siri of the iOS operating system, operate on a similar pattern-recognizing technique as that of text-based systems, but with the former, the user input is conducted through speech recognition. This branch of linguistics involves the processing of the user's speech as sound waves and the interpreting of the acoustics and language patterns for the computer to recognize the input.[34]\n",
      "Comprehension approaches[edit]\n",
      "Much of the focus of modern computational linguistics is on comprehension. With the proliferation of the internet and the abundance of easily accessible written human language, the ability to create a program capable of understanding human language would have many broad and exciting possibilities, including improved search engines, automated customer service, and online education.\n",
      "Early work in comprehension included applying Bayesian statistics to the task of optical character recognition, as illustrated by Bledsoe and Browing in 1959 in which a large dictionary of possible letters was generated by \"learning\" from example letters and then the probability that any one of those learned examples matched the new input was combined to make a final decision.[35] Other attempts at applying Bayesian statistics to language analysis included the work of Mosteller and Wallace (1963) in which an analysis of the words used in The Federalist Papers was used to attempt to determine their authorship (concluding that Madison most likely authored the majority of the papers).[36]\n",
      "In 1971 Terry Winograd developed an early natural language processing engine capable of interpreting naturally written commands within a simple rule-governed environment. The primary language parsing program in this project was called SHRDLU, which was capable of carrying out a somewhat natural conversation with the user giving it commands, but only within the scope of the toy environment designed for the task. This environment consisted of different shaped and colored blocks, and SHRDLU was capable of interpreting commands such as \"Find a block which is taller than the one you are holding and put it into the box.\" and asking questions such as \"I don't understand which pyramid you mean.\" in response to the user's input.[37] While impressive, this kind of natural language processing has proven much more difficult outside the limited scope of the toy environment. Similarly, a project developed by NASA called LUNAR was designed to provide answers to naturally written questions about the geological analysis of lunar rocks returned by the Apollo missions.[38] These kinds of problems are referred to as question answering.\n",
      "Initial attempts at understanding spoken language were based on work done in the 1960s and 1970s in signal modeling where an unknown signal is analyzed to look for patterns and to make predictions based on its history. An initial and somewhat successful approach to applying this kind of signal modeling to language was achieved with the use of hidden Markov models as detailed by Rabiner in 1989.[39] This approach attempts to determine probabilities for the arbitrary number of models that could be being used in generating speech as well as modeling the probabilities for various words generated from each of these possible models. Similar approaches were employed in early speech recognition attempts starting in the late 70s at IBM using word/part-of-speech pair probabilities.[40]\n",
      "More recently these kinds of statistical approaches have been applied to more difficult tasks such as topic identification using Bayesian parameter estimation to infer topic probabilities in text documents.[41]\n",
      "Applications[edit]\n",
      "Applied computational linguistics is largely equivalent with natural language processing. Example applications for end users include speech recognition software, such as Apple's Siri feature, spellcheck tools, speech synthesis programs, which are often used to demonstrate pronunciation or help the disabled, and machine translation programs and websites, such as Google Translate.[42]\n",
      "Computational linguistics are also helpful in situations involving social media and the Internet, e.g., for providing content filters in chatrooms or on website searches,[42] for grouping and organizing content through social media mining,[43] document retrieval and clustering. For instance, if a person searches \"red, large, four-wheeled vehicle,\" to find pictures of a red truck, the search engine will still find the information desired by matching words such as \"four-wheeled\" with \"car\".[44]\n",
      "Computational approaches are also important to support linguistic research, e.g., in corpus linguistics[7] or historical linguistics. As for the study of change over time, computational methods can contribute to the modeling and identification of language families[8] (see further quantitative comparative linguistics or phylogenetics), as well as the modeling of changes in sound[45] and meaning.[46]\n",
      "Legacy[edit]\n",
      "The subject of computational linguistics has had a recurring impact on popular culture:\n",
      "- The Star Trek franchise features heavily classical NLP applications, most notably machine translation (universal translator), natural language user interfaces and question answering.[47]\n",
      "- The 1983 film WarGames features a young computer hacker who interacts with an artificially intelligent supercomputer.[48]\n",
      "- A 1997 film, Conceiving Ada, focuses on Ada Lovelace, considered one of the first computer programmers, as well as themes of computational linguistics.[49]\n",
      "- Her, a 2013 film, depicts a man's interactions with the \"world's first artificially intelligent operating system.\"[50]\n",
      "- The 2014 film The Imitation Game follows the life of computer scientist Alan Turing, developer of the Turing Test.[51]\n",
      "- The 2015 film Ex Machina centers around human interaction with artificial intelligence.[52]\n",
      "- The 2016 film Arrival, based on Ted Chiang's Story of Your Life, takes a whole new approach of linguistics to communicate with advanced alien race called heptapods.[53]\n",
      "See also[edit]\n",
      "- Artificial intelligence in fiction\n",
      "- Collostructional analysis\n",
      "- Computational lexicology\n",
      "- Computational Linguistics (journal)\n",
      "- Computational models of language acquisition\n",
      "- Computational semantics\n",
      "- Computational semiotics\n",
      "- Computer-assisted reviewing\n",
      "- Dialog systems\n",
      "- Glottochronology\n",
      "- Grammar induction\n",
      "- Human speechome project\n",
      "- Internet linguistics\n",
      "- Lexicostatistics\n",
      "- Natural language processing\n",
      "- Natural language user interface\n",
      "- Quantitative linguistics\n",
      "- Semantic relatedness\n",
      "- Semantometrics\n",
      "- Systemic functional linguistics\n",
      "- Translation memory\n",
      "- Universal Networking Language\n",
      "References[edit]\n",
      "- ^ \"ACL Member Portal | The Association for Computational Linguistics Member Portal\". www.aclweb.org. Retrieved 2020-08-17.\n",
      "- ^ \"What is Computational Linguistics?\". The Association for Computational Linguistics. February 2005.\n",
      "- ^ As pointed out, for example, by Ido Dagan at his speech at the ACL 2010 banquet in Uppsala, Sweden.\n",
      "- ^ a b Uszkoreit, Hans. \"What Is Computational Linguistics?\". Department of Computational Linguistics and Phonetics of Saarland University.\n",
      "- ^ Socher, Richard. \"Deep Learning For NLP-ACL 2012 Tutorial\". Socher. Retrieved 2020-08-17.\n",
      "- ^ Oettinger, A. G. (1965). Computational Linguistics. The American Mathematical Monthly, Vol. 72, No. 2, Part 2: Computers and Computing, pp. 147–150.\n",
      "- ^ a b McEnery, Thomas (1996). Corpus Linguistics: An Introduction. Edinburgh: Edinburgh University Press. p. 114. ISBN 978-0748611652.\n",
      "- ^ a b Bowern, Claire. \"Computational phylogenetics.\" Annual Review of Linguistics 4 (2018): 281-296.\n",
      "- ^ John Hutchins: Retrospect and prospect in computer-based translation. Proceedings of MT Summit VII, 1999, pp. 30–44.\n",
      "- ^ Arnold B. Barach: Translating Machine 1975: And the Changes To Come.\n",
      "- ^ T. Crowley., C. Bowern. An Introduction to Historical Linguistics. Auckland, N.Z.: Oxford UP, 1992. Print.\n",
      "- ^ \"Deceased members\". ICCL members. Archived from the original on 17 May 2017. Retrieved 15 November 2017.\n",
      "- ^ Natural Language Processing by Liz Liddy, Eduard Hovy, Jimmy Lin, John Prager, Dragomir Radev, Lucy Vanderwende, Ralph Weischedel\n",
      "- ^ \"Computational Linguistics and Phonetics\".\n",
      "- ^ \"Yatsko's Computational Linguistics Laboratory\".\n",
      "- ^ \"CLIP\".\n",
      "- ^ Computational Linguistics – Department of Linguistics – Georgetown College\n",
      "- ^ \"UPenn Linguistics: Computational Linguistics\".\n",
      "- ^ Jurafsky, D., & Martin, J. H. (2009). Speech and language processing: An introduction to natural language processing, computational linguistics, and speech recognition. Upper Saddle River, N.J: Pearson Prentice Hall.\n",
      "- ^ Bowerman, M. (1988). The \"no negative evidence\" problem: How do children avoid constructing an overly general grammar. Explaining language universals.\n",
      "- ^ a b c d Braine, M.D.S. (1971). On two types of models of the internalization of grammars. In D.I. Slobin (Ed.), The ontogenesis of grammar: A theoretical perspective. New York: Academic Press.\n",
      "- ^ Powers, D.M.W. & Turk, C.C.R. (1989). Machine Learning of Natural Language. Springer-Verlag. ISBN 978-0-387-19557-5.\n",
      "- ^ a b Elman, Jeffrey L. (1993). \"Learning and development in neural networks: The importance of starting small\". Cognition. 48 (1): 71–99. doi:10.1016/0010-0277(93)90058-4. PMID 8403835. S2CID 2105042.\n",
      "- ^ Salvi, G.; Montesano, L.; Bernardino, A.; Santos-Victor, J. (2012). \"Language bootstrapping: learning word meanings from the perception-action association\". IEEE Transactions on Systems, Man, and Cybernetics. Part B. 42 (3): 660–71. arXiv:1711.09714. doi:10.1109/TSMCB.2011.2172420. PMID 22106152. S2CID 977486.\n",
      "- ^ Gong, T.; Shuai, L.; Tamariz, M. & Jäger, G. (2012). E. Scalas (ed.). \"Studying Language Change Using Price Equation and Pólya-urn Dynamics\". PLOS ONE. 7 (3): e33171. Bibcode:2012PLoSO...733171G. doi:10.1371/journal.pone.0033171. PMC 3299756. PMID 22427981.\n",
      "- ^ Marcus, M. & Marcinkiewicz, M. (1993). \"Building a large annotated corpus of English: The Penn Treebank\" (PDF). Computational Linguistics. 19 (2): 313–330.\n",
      "- ^ Taylor, Ann (2003). \"1\". Treebanks. Spring Netherlands. pp. 5–22.\n",
      "- ^ a b Angus, D.; Smith, A. & Wiles, J. (2012). \"Conceptual recurrence plots: revealing patterns in human discourse\" (PDF). IEEE Transactions on Visualization and Computer Graphics. 18 (6): 988–97. doi:10.1109/TVCG.2011.100. PMID 22499664. S2CID 359497.\n",
      "- ^ a b Furuhashi, S. & Hayakawa, Y. (2012). \"Lognormality of the Distribution of Japanese Sentence Lengths\". Journal of the Physical Society of Japan. 81 (3): 034004. Bibcode:2012JPSJ...81c4004F. doi:10.1143/JPSJ.81.034004.\n",
      "- ^ Turing, A. M. (1950). \"Computing machinery and intelligence\". Mind. 59 (236): 433–460. doi:10.1093/mind/lix.236.433. JSTOR 2251299.\n",
      "- ^ Weizenbaum, J. (1966). \"ELIZA—a computer program for the study of natural language communication between man and machine\". Communications of the ACM. 9 (1): 36–45. doi:10.1145/365153.365168. S2CID 1896290.\n",
      "- ^ Och, F. J.; Ney, H. (2003). \"A Systematic Comparison of Various Statistical Alignment Models\". Computational Linguistics. 29 (1): 19–51. doi:10.1162/089120103321337421.\n",
      "- ^ Mairesse, F. (2011). \"Controlling user perceptions of linguistic style: Trainable generation of personality traits\". Computational Linguistics. 37 (3): 455–488. doi:10.1162/COLI_a_00063.\n",
      "- ^ Language Files. The Ohio State University Department of Linguistics. 2011. pp. 624–634. ISBN 9780814251799.\n",
      "- ^ Bledsoe, W. W. & Browning, I. (1959). Pattern recognition and reading by machine. Papers presented at the December 1–3, 1959, eastern joint IRE-AIEE-ACM computer conference on – IRE-AIEE-ACM ’59 (Eastern). New York, New York, USA: ACM Press. pp. 225–232. doi:10.1145/1460299.1460326.\n",
      "- ^ Mosteller, F. (1963). \"Inference in an authorship problem\". Journal of the American Statistical Association. 58 (302): 275–309. doi:10.2307/2283270. JSTOR 2283270.\n",
      "- ^ Winograd, T. (1971). \"Procedures as a Representation for Data in a Computer Program for Understanding Natural Language\" (Report). Archived from the original on 2016-11-01. Retrieved 2012-06-15.\n",
      "{{cite journal}}: Cite journal requires\n",
      "|journal=(help)\n",
      "- ^ Woods, W.; Kaplan, R. & Nash-Webber, B. (1972). \"The lunar sciences natural language information system\" (Report).\n",
      "{{cite journal}}: Cite journal requires\n",
      "|journal=(help)\n",
      "- ^ Rabiner, L. (1989). \"A tutorial on hidden Markov models and selected applications in speech recognition\". Proceedings of the IEEE. 77 (2): 257–286. CiteSeerX 10.1.1.381.3454. doi:10.1109/5.18626.\n",
      "- ^ Bahl, L.; Baker, J.; Cohen, P.; Jelinek, F. (1978). \"Recognition of continuously read natural corpus\". ICASSP '78. IEEE International Conference on Acoustics, Speech, and Signal Processing. Vol. 3. pp. 422–424. doi:10.1109/ICASSP.1978.1170402.\n",
      "- ^ Blei, D. & Ng, A. (2003). \"Latent dirichlet allocation\". The Journal of Machine Learning. 3: 993–1022.\n",
      "- ^ a b \"Careers in Computational Linguistics\". California State University. Retrieved 19 September 2016.\n",
      "- ^ Marujo, Lus et al. \"Automatic Keyword Extraction on Twitter.\" Language Technologies Institute, Carnegie Mellon University, n.d. Web. 19 Sept. 2016.\n",
      "- ^ \"Computational Linguistics\". Stanford Encyclopedia of Philosophy. Metaphysics Research Lab, Stanford University. Feb 26, 2014. Retrieved Apr 19, 2017.\n",
      "- ^ Pigoli, Davide, et al. \"The analysis of acoustic phonetic data: exploring differences in the spoken romance languages.\" arXiv preprint arXiv:1507.07587 985 (2015); Group, The Functional Phylogenies. \"Phylogenetic inference for function-valued traits: speech sound evolution.\" Trends in ecology & evolution 27.3 (2012): 160-166..\n",
      "- ^ e.g. Hamilton, William L., Jure Leskovec, and Dan Jurafsky. \"Diachronic word embeddings reveal statistical laws of semantic change.\" arXiv preprint arXiv:1605.09096 (2016).\n",
      "- ^ \"'Star Trek' translators reach for the final frontier\". www.cnn.com. Retrieved 2020-08-17.\n",
      "- ^ Badham, John (1983-06-03), WarGames, retrieved 2016-02-22\n",
      "- ^ Hershman-Leeson, Lynn (1999-02-19), Conceiving Ada, retrieved 2016-02-22\n",
      "- ^ Jonze, Spike (2014-01-10), Her, retrieved 2016-02-18\n",
      "- ^ Tyldum, Morten (2014-12-25), The Imitation Game, retrieved 2016-02-18\n",
      "- ^ Garland, Alex (2015-04-24), Ex Machina, retrieved 2016-02-18\n",
      "- ^ Villeneuve, Denis (2016-10-10). \"Arrival\". IMDb. Retrieved 18 December 2019.\n",
      "Further reading[edit]\n",
      "- Bates, M (1995). \"Models of natural language understanding\". Proceedings of the National Academy of Sciences of the United States of America. 92 (22): 9977–9982. Bibcode:1995PNAS...92.9977B. doi:10.1073/pnas.92.22.9977. PMC 40721. PMID 7479812.\n",
      "- Steven Bird, Ewan Klein, and Edward Loper (2009). Natural Language Processing with Python. O'Reilly Media. ISBN 978-0-596-51649-9.\n",
      "- Daniel Jurafsky and James H. Martin (2008). Speech and Language Processing, 2nd edition. Pearson Prentice Hall. ISBN 978-0-13-187321-6.\n",
      "- Mohamed Zakaria KURDI (2016). Natural Language Processing and Computational Linguistics: speech, morphology, and syntax, Volume 1. ISTE-Wiley. ISBN 978-1848218482.\n",
      "- Mohamed Zakaria KURDI (2017). Natural Language Processing and Computational Linguistics: semantics, discourse, and applications, Volume 2. ISTE-Wiley. ISBN 978-1848219212.\n",
      "External links[edit]\n",
      "- Association for Computational Linguistics (ACL)\n",
      "- CICLing annual conferences on Computational Linguistics\n",
      "- Computational Linguistics – Applications workshop\n",
      "- Free online introductory book on Computational Linguistics at the Wayback Machine (archived January 25, 2008)\n",
      "- Language Technology World\n",
      "- Resources for Text, Speech and Language Processing\n",
      "- The Research Group in Computational Linguistics\n"
     ]
    }
   ],
   "source": [
    "print(cl)"
   ]
  },
  {
   "cell_type": "code",
   "execution_count": 4,
   "metadata": {},
   "outputs": [
    {
     "name": "stdout",
     "output_type": "stream",
     "text": [
      "64\n",
      "Computational linguistics is an interdisciplinary field concerned with the computational modelling of natural language, as well as the study of appropriate computational approaches to linguistic questions. In general, computational linguistics draws upon linguistics, computer science, artificial intelligence, mathematics, logic, philosophy, cognitive science, cognitive psychology, psycholinguistics, anthropology and neuroscience, among others.\n"
     ]
    }
   ],
   "source": [
    "paragraphs = list()\n",
    "for line in cl.split(\"\\n\"):\n",
    "    if not (line.startswith(\"|\") or line.startswith(\"- ^\")) and len(line) > 50:\n",
    "        paragraphs.append(line)\n",
    "\n",
    "print(len(paragraphs))\n",
    "print(paragraphs[0])"
   ]
  },
  {
   "cell_type": "markdown",
   "metadata": {},
   "source": [
    "## Stanza\n",
    "### Sprachmodelle und Pipelines\n",
    "Um Stanza verwenden zu können, benötigt man erst eine Pipeline für die Sprache, die man verarbeiten möchte. Eine Pipeline enthält verschiedene Elemente, z.B. einen Tokenisierer, einen Part-of-Speech-Tagger usw.\n",
    "\n",
    "Wenn man außer der gewünschten Sprache keine weiteren Parameter angibt, lädt Stanza netterweise eine Standard-Pipeline. Um ein Sprachmodell herunterzuladen, führt man zunächst `stanza.download()` aus – wenn man das schon einmal getan hat, braucht man die Zeile nicht mehr im Skript, da sich das Modell dann bereits auf der Festplatte befindet.\n",
    "\n",
    "Was genau für ein Sprachmodell man herunterlädt, lässt sich spezifizieren.\n",
    "- Eine Einführung in die Möglichkeiten gibt es hier: https://stanfordnlp.github.io/stanza/installation_usage.html#building-a-pipeline.\n",
    "- Eine Übersicht über die aktuell verfügbaren Modelle und Parameter von `stanza.download()` gibt es hier: https://stanfordnlp.github.io/stanza/models.html\n",
    "\n",
    "Es ist wichtig, Modelle auszuwählen, die nicht nur zur Sprache unserer Daten passen, sondern möglichst auch auf vergleichbaren Daten trainiert wurden. Wenn man bspw. Tweets mit einem Modell annotieren möchte, das ausschließlich auf Zeitungstexten oder Romanen des 19. Jahrhunderts trainiert wurde (oder umgekehrt), ist die Genauigkeit der Annotation wahrscheinlich nicht allzu hoch."
   ]
  },
  {
   "cell_type": "code",
   "execution_count": 5,
   "metadata": {},
   "outputs": [
    {
     "data": {
      "application/json": {
       "ascii": false,
       "bar_format": null,
       "colour": null,
       "elapsed": 0.0465240478515625,
       "initial": 0,
       "n": 0,
       "ncols": null,
       "nrows": 55,
       "postfix": null,
       "prefix": "Downloading https://raw.githubusercontent.com/stanfordnlp/stanza-resources/main/resources_1.4.0.json",
       "rate": null,
       "total": 25998,
       "unit": "B",
       "unit_divisor": 1000,
       "unit_scale": true
      },
      "application/vnd.jupyter.widget-view+json": {
       "model_id": "08ac02959bc64fd1878b1a98c0d22d38",
       "version_major": 2,
       "version_minor": 0
      },
      "text/plain": [
       "Downloading https://raw.githubusercontent.com/stanfordnlp/stanza-resources/main/resources_1.4.0.json:   0%|   …"
      ]
     },
     "metadata": {},
     "output_type": "display_data"
    },
    {
     "name": "stderr",
     "output_type": "stream",
     "text": [
      "2022-09-14 17:01:54 INFO: Downloading default packages for language: en (English)...\n",
      "2022-09-14 17:01:55 INFO: File exists: /home/ausgerechnet/stanza_resources/en/default.zip\n",
      "2022-09-14 17:01:59 INFO: Finished downloading models and saved to /home/ausgerechnet/stanza_resources.\n"
     ]
    }
   ],
   "source": [
    "stanza.download(\"en\")"
   ]
  },
  {
   "cell_type": "markdown",
   "metadata": {},
   "source": [
    "Jetzt kann die Pipeline gebaut werden. Dabei sollten wir gut überlegen, ob wir wirklich alles brauchen, denn einiges braucht Prozessorleistung und Arbeitsspeicher ... Ohne GPU ist die NER sehr langsam, der Phrasenstruktur-Parser (constituency) extrem langsam!"
   ]
  },
  {
   "cell_type": "code",
   "execution_count": 6,
   "metadata": {},
   "outputs": [
    {
     "data": {
      "application/json": {
       "ascii": false,
       "bar_format": null,
       "colour": null,
       "elapsed": 0.04369640350341797,
       "initial": 0,
       "n": 0,
       "ncols": null,
       "nrows": 55,
       "postfix": null,
       "prefix": "Downloading https://raw.githubusercontent.com/stanfordnlp/stanza-resources/main/resources_1.4.0.json",
       "rate": null,
       "total": 25998,
       "unit": "B",
       "unit_divisor": 1000,
       "unit_scale": true
      },
      "application/vnd.jupyter.widget-view+json": {
       "model_id": "4ab7a8ffcdff4334b755ee79fe233ff6",
       "version_major": 2,
       "version_minor": 0
      },
      "text/plain": [
       "Downloading https://raw.githubusercontent.com/stanfordnlp/stanza-resources/main/resources_1.4.0.json:   0%|   …"
      ]
     },
     "metadata": {},
     "output_type": "display_data"
    },
    {
     "name": "stderr",
     "output_type": "stream",
     "text": [
      "2022-09-14 17:02:00 INFO: Loading these models for language: en (English):\n",
      "============================\n",
      "| Processor    | Package   |\n",
      "----------------------------\n",
      "| tokenize     | combined  |\n",
      "| pos          | combined  |\n",
      "| lemma        | combined  |\n",
      "| depparse     | combined  |\n",
      "| sentiment    | sstplus   |\n",
      "| constituency | wsj       |\n",
      "| ner          | ontonotes |\n",
      "============================\n",
      "\n",
      "2022-09-14 17:02:00 INFO: Use device: cpu\n",
      "2022-09-14 17:02:00 INFO: Loading: tokenize\n",
      "2022-09-14 17:02:00 INFO: Loading: pos\n",
      "2022-09-14 17:02:00 INFO: Loading: lemma\n",
      "2022-09-14 17:02:00 INFO: Loading: depparse\n",
      "2022-09-14 17:02:00 INFO: Loading: sentiment\n",
      "2022-09-14 17:02:01 INFO: Loading: constituency\n",
      "2022-09-14 17:02:01 INFO: Loading: ner\n",
      "2022-09-14 17:02:01 INFO: Done loading processors!\n"
     ]
    }
   ],
   "source": [
    "pipeline = stanza.Pipeline(\"en\")\n",
    "# pipeline = stanza.Pipeline(\"en\", processors=\"tokenize,pos,lemma\")"
   ]
  },
  {
   "cell_type": "markdown",
   "metadata": {},
   "source": [
    "Die Anwendung der Pipeline gestaltet sich nun denkbar einfach. Ohne GPU ist sie aber mitunter extrem langsam, wobei einige Internet-Quellen empfehlen, die Umgebungsvariable `OMP_NUM_THREADS` entsprechend zu setzen (was aber nicht immer zum Erfolg führt)."
   ]
  },
  {
   "cell_type": "code",
   "execution_count": 7,
   "metadata": {},
   "outputs": [
    {
     "name": "stdout",
     "output_type": "stream",
     "text": [
      "env: OMP_NUM_THREADS=4\n",
      "<class 'stanza.models.common.doc.Document'>\n"
     ]
    }
   ],
   "source": [
    "%env OMP_NUM_THREADS=4\n",
    "# takes a couple of minutes on my X1 Carbon\n",
    "doc = pipeline(\"\\n\".join(paragraphs))\n",
    "\n",
    "print(type(doc))"
   ]
  },
  {
   "cell_type": "markdown",
   "metadata": {},
   "source": [
    "### Output und Konvertierung in andere Formate\n",
    "\n",
    "Der Output der Pipeline hat die Klasse `Document` und bietet verschiedene Methoden, um auf Sätze, Token und Annotationen zuzugreifen (siehe https://stanfordnlp.github.io/stanza/data_objects.html). Hier einige Beispiele:"
   ]
  },
  {
   "cell_type": "code",
   "execution_count": 8,
   "metadata": {},
   "outputs": [
    {
     "name": "stdout",
     "output_type": "stream",
     "text": [
      "4501\n",
      "159\n"
     ]
    }
   ],
   "source": [
    "print(doc.num_tokens)\n",
    "print(len(doc.sentences))"
   ]
  },
  {
   "cell_type": "code",
   "execution_count": 9,
   "metadata": {},
   "outputs": [
    {
     "name": "stdout",
     "output_type": "stream",
     "text": [
      " 1 Theoretical      ADJ      JJ       theoretical\n",
      " 2 computational    ADJ      JJ       computational\n",
      " 3 linguistics      NOUN     NN       linguistics\n",
      " 4 includes         VERB     VBZ      include\n",
      " 5 the              DET      DT       the\n",
      " 6 development      NOUN     NN       development\n",
      " 7 of               ADP      IN       of\n",
      " 8 formal           ADJ      JJ       formal\n",
      " 9 theories         NOUN     NNS      theory\n",
      "10 of               ADP      IN       of\n",
      "11 grammar          NOUN     NN       grammar\n",
      "12 (                PUNCT    -LRB-    (\n",
      "13 parsing          NOUN     NN       parsing\n",
      "14 )                PUNCT    -RRB-    )\n",
      "15 and              CCONJ    CC       and\n",
      "16 semantics        NOUN     NN       semantics\n",
      "17 ,                PUNCT    ,        ,\n",
      "18 often            ADV      RB       often\n",
      "19 grounded         VERB     VBN      ground\n",
      "20 in               ADP      IN       in\n",
      "21 formal           ADJ      JJ       formal\n",
      "22 logics           NOUN     NNS      logic\n",
      "23 and              CCONJ    CC       and\n",
      "24 symbolic         ADJ      JJ       symbolic\n",
      "25 (                PUNCT    -LRB-    (\n",
      "26 knowledge        NOUN     NN       knowledge\n",
      "27 -                PUNCT    HYPH     -\n",
      "28 based            VERB     VBN      base\n",
      "29 )                PUNCT    -RRB-    )\n",
      "30 approaches       NOUN     NNS      approach\n",
      "31 .                PUNCT    .        .\n"
     ]
    }
   ],
   "source": [
    "sent = doc.sentences[12] # sehen wir uns den 1. Satz an\n",
    "for tok in sent.words:\n",
    "    print(f\"{tok.id:2d} {tok.text:16s} {tok.pos:8s} {tok.xpos:8s} {tok.lemma}\")"
   ]
  },
  {
   "cell_type": "code",
   "execution_count": 10,
   "metadata": {},
   "outputs": [
    {
     "name": "stdout",
     "output_type": "stream",
     "text": [
      "1\n"
     ]
    }
   ],
   "source": [
    "print(sent.sentiment)"
   ]
  },
  {
   "cell_type": "code",
   "execution_count": 11,
   "metadata": {},
   "outputs": [
    {
     "name": "stdout",
     "output_type": "stream",
     "text": [
      "1 : Computational linguistics is an interdisciplinary field concerned with the computational modelling of natural language , as well as the study of appropriate computational approaches to linguistic questions .\n",
      "1 : In general , computational linguistics draws upon linguistics , computer science , artificial intelligence , mathematics , logic , philosophy , cognitive science , cognitive psychology , psycholinguistics , anthropology and neuroscience , among others .\n",
      "1 : Traditionally , computational linguistics emerged as an area of artificial intelligence performed by computer scientists who had specialized in the application of computers to the processing of a natural language .\n",
      "1 : With the formation of the Association for Computational Linguistics ( ACL ) [ 1 ] and the establishment of independent conference series , the field consolidated during the 1970s and 1980s .\n",
      "1 : The Association for Computational Linguistics defines computational linguistics as : ... the scientific study of language from a computational perspective .\n",
      "1 : Computational linguists are interested in providing computational models of various kinds of linguistic phenomena . [ 2 ]\n",
      "1 : The term \" computational linguistics \" is nowadays ( 2020 ) taken to be a near - synonym of natural language processing ( NLP ) and ( human ) language technology .\n",
      "1 : These terms put a stronger emphasis on aspects of practical applications rather than theoretical inquiry and since the 2000s .\n",
      "1 : In practice , they have largely replaced the term \" computational linguistics \" in the NLP / ACL community , [ 3 ] although they specifically refer to the sub - field of applied computational linguistics , only .\n",
      "1 : Computational linguistics has both theoretical and applied components .\n",
      "1 : Theoretical computational linguistics focuses on issues in theoretical linguistics and cognitive science . [ 4 ]\n",
      "1 : Applied computational linguistics focuses on the practical outcome of modeling human language use . [ 4 ]\n",
      "1 : Theoretical computational linguistics includes the development of formal theories of grammar ( parsing ) and semantics , often grounded in formal logics and symbolic ( knowledge - based ) approaches .\n",
      "1 : Areas of research that are studied by theoretical computational linguistics include : - Computational complexity of natural language , largely modeled on automata theory , with the application of context - sensitive grammar and linearly bounded Turing machines .\n",
      "1 : - Computational semantics comprises defining suitable logics for linguistic meaning representation , automatically constructing them and reasoning with them Applied computational linguistics is dominated by machine learning , traditionally using statistical methods , since the mid-2010s by neural networks : Socher et al. ( 2012 ) [ 5 ] was an early Deep Learning tutorial at the ACL 2012 , and met with both interest and ( at the time ) scepticism by most participants .\n",
      "0 : Until then , neural learning was basically rejected because of its lack of statistical interpretability .\n",
      "1 : Until 2015 , deep learning had evolved into the major framework of NLP .\n",
      "1 : As for the tasks addressed by applied computational linguistics , see Natural language processing article .\n",
      "1 : This includes classical problems such as the design of POS - taggers ( part - of - speech taggers ) , parsers for natural languages , or tasks such as machine translation ( MT ) , the sub-division of computational linguistics dealing with having computers translate between languages .\n",
      "1 : As one of the earliest and most difficult applications of computational linguistics , MT draws on many subfields and both theoretical and applied aspects .\n",
      "0 : Traditionally , automatic language translation has been considered a notoriously hard branch of computational linguistics . [ 6 ]\n",
      "1 : Aside from dichotomy between theoretical and applied computational linguistics , other divisions of computational into major areas according to different criteria exist , including : - medium of the language being processed , whether spoken or textual : speech recognition and speech synthesis deal with how spoken language can be understood or created using computers .\n",
      "1 : - task being performed , e.g. , whether analyzing language ( recognition ) or synthesizing language ( generation ) : Parsing and generation are sub-divisions of computational linguistics dealing respectively with taking language apart and putting it together .\n",
      "1 : Traditionally , applications of computers to address research problems in other branches of linguistics have been described as tasks within computational linguistics .\n",
      "1 : Among other aspects , this includes - Computer - aided corpus linguistics , which has been used since the 1970s as a way to make detailed advances in the field of discourse analysis [ 7 ]\n",
      "1 : - Simulation and study of language evolution in historical linguistics / glottochronology . [ 8 ]\n",
      "0 : Computational linguistics is often grouped within the field of artificial intelligence but was present before the development of artificial intelligence .\n",
      "1 : Computational linguistics originated with efforts in the United States in the 1950s to use computers to automatically translate texts from foreign languages , particularly Russian scientific journals , into English . [ 9 ]\n",
      "0 : Since computers can make arithmetic ( systematic ) calculations much faster and more accurately than humans , it was thought to be only a short matter of time before they could also begin to process language . [ 10 ]\n",
      "1 : Computational and quantitative methods are also used historically in the attempted reconstruction of earlier forms of modern languages and sub - grouping modern languages into language families .\n",
      "0 : Earlier methods , such as lexicostatistics and glottochronology , have been proven to be premature and inaccurate .\n",
      "2 : However , recent interdisciplinary studies that borrow concepts from biological studies , especially gene mapping , have proved to produce more sophisticated analytical tools and more reliable results .\n",
      "1 : [ 11 ]\n",
      "0 : When machine translation ( also known as mechanical translation ) failed to yield accurate translations right away , automated processing of human languages was recognized as far more complex than had originally been assumed .\n",
      "1 : Computational linguistics was born as the name of the new field of study devoted to developing algorithms and software for intelligently processing language data .\n",
      "1 : The term \" computational linguistics \" itself was first coined by David Hays , a founding member of both the Association for Computational Linguistics ( ACL ) and the International Committee on Computational Linguistics ( ICCL ) . [ 12 ]\n",
      "1 : To translate one language into another , it was observed that one had to understand the grammar of both languages , including both morphology ( the grammar of word forms ) and syntax ( the grammar of sentence structure ) .\n",
      "1 : To understand syntax , one had to also understand the semantics and the lexicon ( or ' vocabulary ' ) , and even something of the pragmatics of language use .\n",
      "1 : Thus , what started as an effort to translate between languages evolved into an entire discipline devoted to understanding how to represent and process natural languages using computers . [ 13 ]\n",
      "1 : Nowadays research within the scope of computational linguistics is done at computational linguistics departments , [ 14 ] computational linguistics laboratories , [ 15 ] computer science departments , [ 16 ] and linguistics departments . [ 17 ] [ 18 ]\n",
      "1 : Some research in the field of computational linguistics aims to create working speech or text processing systems while others aim to create a system allowing human - machine interaction .\n",
      "0 : Programs meant for human - machine communication are called conversational agents . [ 19 ]\n",
      "1 : Just as computational linguistics can be performed by experts in a variety of fields and through a wide assortment of departments , so too can the research fields broach a diverse range of topics .\n",
      "1 : The following sections discuss some of the literature available across the entire field broken into four main area of discourse : developmental linguistics , structural linguistics , linguistic production , and linguistic comprehension .\n",
      "1 : Language is a cognitive skill that develops throughout the life of an individual .\n",
      "1 : This developmental process has been examined using several techniques , and a computational approach is one of them .\n",
      "1 : Human language development does provide some constraints which make it harder to apply a computational method to understanding it .\n",
      "0 : For instance , during language acquisition , human children are largely only exposed to positive evidence . [ 20 ]\n",
      "0 : This means that during the linguistic development of an individual , the only evidence for what is a correct form is provided , and no evidence for what is not correct .\n",
      "1 : This is insufficient information for a simple hypothesis testing procedure for information as complex as language , [ 21 ] and so provides certain boundaries for a computational approach to modeling language development and acquisition in an individual .\n",
      "1 : Attempts have been made to model the developmental process of language acquisition in children from a computational angle , leading to both statistical grammars and connectionist models . [ 22 ]\n",
      "1 : Work in this realm has also been proposed as a method to explain the evolution of language through history .\n",
      "2 : Using models , it has been shown that languages can be learned with a combination of simple input presented incrementally as the child develops better memory and longer attention span . [ 23 ]\n",
      "1 : This was simultaneously posed as a reason for the long developmental period of human children . [ 23 ]\n",
      "1 : Both conclusions were drawn because of the strength of the artificial neural network which the project created .\n",
      "1 : The ability of infants to develop language has also been modeled using robots [ 24 ] in order to test linguistic theories .\n",
      "1 : Enabled to learn as children might , a model was created based on an affordance model in which mappings between actions , perceptions , and effects were created and linked to spoken words .\n",
      "1 : Crucially , these robots were able to acquire functioning word - to - meaning mappings without needing grammatical structure , vastly simplifying the learning process and shedding light on information which furthers the current understanding of linguistic development .\n",
      "1 : It is important to note that this information could only have been empirically tested using a computational approach .\n",
      "2 : As our understanding of the linguistic development of an individual within a lifetime is continually improved using neural networks and learning robotic systems , it is also important to keep in mind that languages themselves change and develop through time .\n",
      "2 : Computational approaches to understanding this phenomenon have unearthed very interesting information .\n",
      "1 : Using the Price equation and Pólya urn dynamics , researchers have created a system which not only predicts future linguistic evolution but also gives insight into the evolutionary history of modern - day languages . [ 25 ]\n",
      "0 : This modeling effort achieved , through computational linguistics , what would otherwise have been impossible .\n",
      "2 : It is clear that the understanding of linguistic development in humans as well as throughout evolutionary time has been fantastically improved because of advances in computational linguistics .\n",
      "0 : The ability to model and modify systems at will affords science an ethical method of testing hypotheses that would otherwise be intractable .\n",
      "2 : To create better computational models of language , an understanding of language 's structure is crucial .\n",
      "2 : To this end , the English language has been meticulously studied using computational approaches to better understand how the language works on a structural level .\n",
      "1 : One of the most important pieces of being able to study linguistic structure is the availability of large linguistic corpora or samples .\n",
      "1 : This grants computational linguists the raw data necessary to run their models and gain a better understanding of the underlying structures present in the vast amount of data which is contained in any single language .\n",
      "1 : One of the most cited English linguistic corpora is the Penn Treebank . [ 26 ]\n",
      "1 : Derived from widely - different sources , such as IBM computer manuals and transcribed telephone conversations , this corpus contains over 4.5 million words of American English .\n",
      "1 : This corpus has been primarily annotated using part - of - speech tagging and syntactic bracketing and has yielded substantial empirical observations related to language structure . [ 27 ]\n",
      "1 : Theoretical approaches to the structure of languages have also been developed .\n",
      "1 : These works allow computational linguistics to have a framework within which to work out hypotheses that will further the understanding of the language in a myriad of ways .\n",
      "1 : One of the original theoretical theses on the internalization of grammar and structure of language proposed two types of models .\n",
      "1 : [ 21 ]\n",
      "1 : In these models , rules or patterns learned increase in strength with the frequency of their encounter . [ 21 ]\n",
      "0 : The work also created a question for computational linguists to answer : how does an infant learn a specific and non-normal grammar ( Chomsky normal form ) without learning an overgeneralized version and getting stuck ? [ 21 ]\n",
      "1 : Theoretical efforts like these set the direction for research to go early in the lifetime of a field of study , and are crucial to the growth of the field .\n",
      "1 : Structural information about languages allows for the discovery and implementation of similarity recognition between pairs of text utterances . [ 28 ]\n",
      "2 : For instance , it has recently been proven that based on the structural information present in patterns of human discourse , conceptual recurrence plots can be used to model and visualize trends in data and create reliable measures of similarity between natural textual utterances . [ 28 ]\n",
      "2 : This technique is a strong tool for further probing the structure of human discourse .\n",
      "0 : Without the computational approach to this question , the vastly complex information present in discourse data would have remained inaccessible to scientists .\n",
      "1 : Information regarding the structural data of a language is available for English as well as other languages , such as Japanese . [ 29 ]\n",
      "0 : Using computational methods , Japanese sentence corpora were analyzed and a pattern of log- normality was found in relation to sentence length . [ 29 ]\n",
      "1 : Though the exact cause of this lognormality remains unknown , it is precisely this sort of information which computational linguistics is designed to uncover .\n",
      "1 : This information could lead to further important discoveries regarding the underlying structure of Japanese and could have any number of effects on the understanding of Japanese as a language .\n",
      "2 : Computational linguistics allows for very exciting additions to the scientific knowledge base to happen quickly and with very little room for doubt .\n",
      "1 : Without a computational approach to the structure of linguistic data , much of the information that is available now would still be hidden under the vastness of data within any single language .\n",
      "2 : Computational linguistics allows scientists to parse huge amounts of data reliably and efficiently , creating the possibility for discoveries unlike any seen in most other approaches .\n",
      "1 : This section possibly contains original research .\n",
      "1 : ( October 2015 )\n",
      "1 : The production of language is equally as complex in the information it provides and the necessary skills which a fluent producer must have .\n",
      "0 : That is to say , comprehension is only half the problem of communication .\n",
      "2 : The other half is how a system produces language , and computational linguistics has made interesting discoveries in this area .\n",
      "1 : In a now famous paper published in 1950 Alan Turing proposed the possibility that machines might one day have the ability to \" think \" .\n",
      "1 : As a thought experiment for what might define the concept of thought in machines , he proposed an \" imitation test \" in which a human subject has two text - only conversations , one with a fellow human and another with a machine attempting to respond like a human .\n",
      "1 : Turing proposes that if the subject cannot tell the difference between the human and the machine , it may be concluded that the machine is capable of thought . [ 30 ]\n",
      "0 : Today this test is known as the Turing test and it remains an influential idea in the area of artificial intelligence .\n",
      "1 : One of the earliest and best - known examples of a computer program designed to converse naturally with humans is the ELIZA program developed by Joseph Weizenbaum at MIT in 1966 .\n",
      "1 : The program emulated a Rogerian psychotherapist when responding to written statements and questions posed by a user .\n",
      "1 : It appeared capable of understanding what was said to it and responding intelligently , but in truth , it simply followed a pattern matching routine that relied on only understanding a few keywords in each sentence .\n",
      "1 : Its responses were generated by recombining the unknown parts of the sentence around properly translated versions of the known words .\n",
      "0 : For example , in the phrase \" It seems that you hate me \" ELIZA understands \" you \" and \" me \" which matches the general pattern \" you [ some words ] me \" , allowing ELIZA to update the words \" you \" and \" me \" to \" I \" and \" you \" and replying \" What makes you think I hate you ? \" .\n",
      "0 : In this example ELIZA has no understanding of the word \" hate \" , but it is not required for a logical response in the context of this type of psychotherapy . [ 31 ]\n",
      "0 : Some projects are still trying to solve the problem which first started computational linguistics off as its field in the first place .\n",
      "2 : However , methods have become more refined , and consequently , the results generated by computational linguists have become more enlightening .\n",
      "1 : To improve computer translation , several models have been compared , including hidden Markov models , smoothing techniques , and the specific refinements of those to apply them to verb translation . [ 32 ]\n",
      "2 : The model which was found to produce the most natural translations of German and French words was a refined alignment model with a first - order dependence and a fertility model .\n",
      "2 : They also provide efficient training algorithms for the models presented , which can give other scientists the ability to improve further on their results .\n",
      "1 : This type of work is specific to computational linguistics and has applications that could vastly improve understanding of how language is produced and comprehended by computers .\n",
      "2 : Work has also been done in making computers produce language in a more naturalistic manner .\n",
      "1 : Using linguistic input from humans , algorithms have been constructed which are able to modify a system 's style of production based on a factor such as linguistic input from a human , or more abstract factors like politeness or any of the five main dimensions of personality . [ 33 ]\n",
      "2 : This work takes a computational approach via parameter estimation models to categorize the vast array of linguistic styles we see across individuals and simplify it for a computer to work in the same way , making human–computer interaction much more natural .\n",
      "1 : Many of the earliest and simplest models of human–computer interaction , such as ELIZA for example , involve a text - based input from the user to generate a response from the computer .\n",
      "1 : By this method , words typed by a user trigger the computer to recognize specific patterns and reply accordingly , through a process known as keyword spotting .\n",
      "1 : Recent technologies have placed more of an emphasis on speech - based interactive systems .\n",
      "1 : These systems , such as Siri of the iOS operating system , operate on a similar pattern - recognizing technique as that of text - based systems , but with the former , the user input is conducted through speech recognition .\n",
      "1 : This branch of linguistics involves the processing of the user 's speech as sound waves and the interpreting of the acoustics and language patterns for the computer to recognize the input . [ 34 ]\n",
      "1 : Much of the focus of modern computational linguistics is on comprehension .\n",
      "2 : With the proliferation of the internet and the abundance of easily accessible written human language , the ability to create a program capable of understanding human language would have many broad and exciting possibilities , including improved search engines , automated customer service , and online education .\n",
      "1 : Early work in comprehension included applying Bayesian statistics to the task of optical character recognition , as illustrated by Bledsoe and Browing in 1959 in which a large dictionary of possible letters was generated by \" learning \" from example letters and then the probability that any one of those learned examples matched the new input was combined to make a final decision . [ 35 ]\n",
      "1 : Other attempts at applying Bayesian statistics to language analysis included the work of Mosteller and Wallace ( 1963 ) in which an analysis of the words used in The Federalist Papers was used to attempt to determine their authorship ( concluding that Madison most likely authored the majority of the papers ) . [ 36 ]\n",
      "1 : In 1971 Terry Winograd developed an early natural language processing engine capable of interpreting naturally written commands within a simple rule - governed environment .\n",
      "0 : The primary language parsing program in this project was called SHRDLU , which was capable of carrying out a somewhat natural conversation with the user giving it commands , but only within the scope of the toy environment designed for the task .\n",
      "0 : This environment consisted of different shaped and colored blocks , and SHRDLU was capable of interpreting commands such as \" Find a block which is taller than the one you are holding and put it into the box . \" and asking questions such as \" I do n't understand which pyramid you mean . \" in response to the user 's input . [ 37 ]\n",
      "2 : While impressive , this kind of natural language processing has proven much more difficult outside the limited scope of the toy environment .\n",
      "1 : Similarly , a project developed by NASA called LUNAR was designed to provide answers to naturally written questions about the geological analysis of lunar rocks returned by the Apollo missions . [ 38 ]\n",
      "1 : These kinds of problems are referred to as question answering .\n",
      "1 : Initial attempts at understanding spoken language were based on work done in the 1960s and 1970s in signal modeling where an unknown signal is analyzed to look for patterns and to make predictions based on its history .\n",
      "2 : An initial and somewhat successful approach to applying this kind of signal modeling to language was achieved with the use of hidden Markov models as detailed by Rabiner in 1989 . [ 39 ]\n",
      "1 : This approach attempts to determine probabilities for the arbitrary number of models that could be being used in generating speech as well as modeling the probabilities for various words generated from each of these possible models .\n",
      "0 : Similar approaches were employed in early speech recognition attempts starting in the late 70s at IBM using word / part - of - speech pair probabilities . [ 40 ]\n",
      "0 : More recently these kinds of statistical approaches have been applied to more difficult tasks such as topic identification using Bayesian parameter estimation to infer topic probabilities in text documents . [ 41 ]\n",
      "1 : Applied computational linguistics is largely equivalent with natural language processing .\n",
      "1 : Example applications for end users include speech recognition software , such as Apple 's Siri feature , spellcheck tools , speech synthesis programs , which are often used to demonstrate pronunciation or help the disabled , and machine translation programs and websites , such as Google Translate . [ 42 ]\n",
      "2 : Computational linguistics are also helpful in situations involving social media and the Internet , e.g. , for providing content filters in chatrooms or on website searches , [ 42 ] for grouping and organizing content through social media mining , [ 43 ] document retrieval and clustering .\n",
      "1 : For instance , if a person searches \" red , large , four - wheeled vehicle , \" to find pictures of a red truck , the search engine will still find the information desired by matching words such as \" four - wheeled \" with \" car \" . [ 44 ]\n",
      "1 : Computational approaches are also important to support linguistic research , e.g. , in corpus linguistics [ 7 ] or historical linguistics .\n",
      "1 : As for the study of change over time , computational methods can contribute to the modeling and identification of language families [ 8 ] ( see further quantitative comparative linguistics or phylogenetics ) , as well as the modeling of changes in sound [ 45 ] and meaning . [ 46 ]\n",
      "1 : The subject of computational linguistics has had a recurring impact on popular culture : - The Star Trek franchise features heavily classical NLP applications , most notably machine translation ( universal translator ) , natural language user interfaces and question answering . [ 47 ] -\n",
      "2 : The 1983 film WarGames features a young computer hacker who interacts with an artificially intelligent supercomputer . [ 48 ] - A 1997 film , Conceiving Ada , focuses on Ada Lovelace , considered one of the first computer programmers , as well as themes of computational linguistics . [ 49 ] -\n",
      "2 : Her , a 2013 film , depicts a man 's interactions with the \" world 's first artificially intelligent operating system . \" [ 50 ] - The 2014 film The Imitation Game follows the life of computer scientist Alan Turing , developer of the Turing Test . [ 51 ] - The 2015 film Ex Machina centers around human interaction with artificial intelligence . [ 52 ] -\n",
      "1 : The 2016 film Arrival , based on Ted Chiang 's Story of Your Life , takes a whole new approach of linguistics to communicate with advanced alien race called heptapods .\n",
      "1 : [ 53 ] - Bates , M ( 1995 ) .\n",
      "1 : \" Models of natural language understanding \" .\n",
      "1 : Proceedings of the National Academy of Sciences of the United States of America . 92 ( 22 ) : 9977–9982 . Bibcode : 1995 PNAS...92.9977B. doi:10.1073/pnas.92.22.9977 . PMC 40721 .\n",
      "1 : PMID 7479812 . - Steven Bird , Ewan Klein , and Edward Loper ( 2009 ) .\n",
      "1 : Natural Language Processing with Python .\n",
      "1 : O'Reilly Media .\n",
      "1 : ISBN 978-0-596-51649-9 . - Daniel Jurafsky and James H. Martin ( 2008 ) .\n",
      "1 : Speech and Language Processing , 2nd edition .\n",
      "1 : Pearson Prentice Hall .\n",
      "1 : ISBN 978-0-13-187321-6. - Mohamed Zakaria KURDI ( 2016 ) .\n",
      "1 : Natural Language Processing and Computational Linguistics : speech , morphology , and syntax , Volume 1 . ISTE - Wiley .\n",
      "1 : ISBN 978-1848218482 . - Mohamed Zakaria KURDI ( 2017 ) .\n",
      "1 : Natural Language Processing and Computational Linguistics : semantics , discourse , and applications , Volume 2 . ISTE - Wiley .\n",
      "1 : ISBN 978-1848219212 . - CICLing annual conferences on Computational Linguistics - Computational Linguistics – Applications workshop -\n",
      "1 : Free online introductory book on Computational Linguistics at the Wayback Machine ( archived January 25 , 2008 ) - Resources for Text , Speech and Language Processing\n"
     ]
    }
   ],
   "source": [
    "for i in range(len(doc.sentences)):\n",
    "    print(doc.sentences[i].sentiment, \":\", \" \".join([tok.text for tok in doc.sentences[i].words]))"
   ]
  },
  {
   "cell_type": "code",
   "execution_count": 12,
   "metadata": {},
   "outputs": [
    {
     "name": "stdout",
     "output_type": "stream",
     "text": [
      "(ROOT (S (NP (JJ Theoretical) (JJ computational) (NN linguistics)) (VP (VBZ includes) (NP (NP (DT the) (NN development)) (PP (IN of) (NP (NP (NP (JJ formal) (NNS theories)) (PP (IN of) (NP (NN grammar) (-LRB- -LRB-) (NN parsing) (-RRB- -RRB-) (CC and) (NN semantics)))) (, ,) (VP (ADVP (RB often)) (VBN grounded) (PP (IN in) (NP (NP (JJ formal) (NNS logics)) (CC and) (NP (JJ symbolic) (-LRB- -LRB-) (ADJP (NN knowledge) (HYPH -) (VBN based)) (-RRB- -RRB-) (NNS approaches))))))))) (. .)))\n",
      "linguistics  --amod ->  theoretical\n",
      "linguistics  --amod ->  computational\n",
      "   include  --nsubj->  linguistics\n",
      "            --root ->  include   \n",
      "development  --det  ->  the       \n",
      "   include  --obj  ->  development\n",
      "    theory  --case ->  of        \n",
      "    theory  --amod ->  formal    \n",
      "development  --nmod ->  theory    \n",
      "   grammar  --case ->  of        \n",
      "    theory  --nmod ->  grammar   \n",
      "   parsing  --punct->  (         \n",
      "    theory  --appos->  parsing   \n",
      "   parsing  --punct->  )         \n",
      " semantics  --cc   ->  and       \n",
      "   grammar  --conj ->  semantics \n",
      "    ground  --punct->  ,         \n",
      "    ground  --advmod->  often     \n",
      "    theory  --acl  ->  ground    \n",
      "     logic  --case ->  in        \n",
      "     logic  --amod ->  formal    \n",
      "    ground  --obl  ->  logic     \n",
      "  approach  --cc   ->  and       \n",
      "  approach  --amod ->  symbolic  \n",
      "      base  --punct->  (         \n",
      "      base  --compound->  knowledge \n",
      "      base  --punct->  -         \n",
      "  approach  --amod ->  base      \n",
      "      base  --punct->  )         \n",
      "     logic  --conj ->  approach  \n",
      "   include  --punct->  .         \n"
     ]
    }
   ],
   "source": [
    "print(sent.constituency) # parse tree\n",
    "for dep in sent.dependencies:\n",
    "    l1 = dep[0].lemma or \"\"\n",
    "    rel = dep[1]\n",
    "    l2 = dep[2].lemma\n",
    "    print(f\"{l1:>10s}  --{rel:5}->  {l2:10s}\")"
   ]
  },
  {
   "cell_type": "code",
   "execution_count": 13,
   "metadata": {},
   "outputs": [
    {
     "data": {
      "text/plain": [
       "['the Association for Computational Linguistics (ORG)',\n",
       " 'ACL (ORG)',\n",
       " '1 (CARDINAL)',\n",
       " '1970s (DATE)',\n",
       " '1980s (DATE)',\n",
       " 'The Association for Computational Linguistics (ORG)',\n",
       " '2020 (DATE)',\n",
       " 'the 2000s (DATE)',\n",
       " 'NLP (ORG)',\n",
       " 'ACL (ORG)',\n",
       " '3 (CARDINAL)',\n",
       " 'the mid-2010s (DATE)',\n",
       " 'Socher et al. (ORG)',\n",
       " '2012 (DATE)',\n",
       " '5 (CARDINAL)',\n",
       " 'Deep Learning (ORG)',\n",
       " 'the ACL 2012 (DATE)',\n",
       " '2015 (DATE)',\n",
       " 'NLP (ORG)',\n",
       " 'Natural (WORK_OF_ART)']"
      ]
     },
     "execution_count": 13,
     "metadata": {},
     "output_type": "execute_result"
    }
   ],
   "source": [
    "[(f\"{x.text} ({x.type})\") for x in doc.entities[0:20]]"
   ]
  },
  {
   "cell_type": "markdown",
   "metadata": {},
   "source": [
    "Mit `to_dict()` können wir das Dokument in eine Liste von Listen von Dictionaries (für jedes Token in jedem Satz) konvertieren. Mit `CoNLL.convert_dict()` können wir diese wiederum ins [CoNLL-Format](https://universaldependencies.org/format.html) überführen, was für den Output vielleicht schöner ist:"
   ]
  },
  {
   "cell_type": "code",
   "execution_count": 14,
   "metadata": {},
   "outputs": [
    {
     "name": "stdout",
     "output_type": "stream",
     "text": [
      "1\tComputational\tComputational\tADJ\tJJ\tDegree=Pos\t2\tamod\t_\tstart_char=0|end_char=13|ner=O\n",
      "2\tlinguistics\tlinguistics\tNOUN\tNN\tNumber=Sing\t6\tnsubj\t_\tstart_char=14|end_char=25|ner=O\n",
      "3\tis\tbe\tAUX\tVBZ\tMood=Ind|Number=Sing|Person=3|Tense=Pres|VerbForm=Fin\t6\tcop\t_\tstart_char=26|end_char=28|ner=O\n",
      "4\tan\ta\tDET\tDT\tDefinite=Ind|PronType=Art\t6\tdet\t_\tstart_char=29|end_char=31|ner=O\n",
      "5\tinterdisciplinary\tinterdisciplinary\tADJ\tJJ\tDegree=Pos\t6\tamod\t_\tstart_char=32|end_char=49|ner=O\n",
      "6\tfield\tfield\tNOUN\tNN\tNumber=Sing\t0\troot\t_\tstart_char=50|end_char=55|ner=O\n",
      "7\tconcerned\tconcern\tVERB\tVBN\tTense=Past|VerbForm=Part\t6\tacl\t_\tstart_char=56|end_char=65|ner=O\n",
      "8\twith\twith\tADP\tIN\t_\t11\tcase\t_\tstart_char=66|end_char=70|ner=O\n",
      "9\tthe\tthe\tDET\tDT\tDefinite=Def|PronType=Art\t11\tdet\t_\tstart_char=71|end_char=74|ner=O\n",
      "10\tcomputational\tcomputational\tADJ\tJJ\tDegree=Pos\t11\tamod\t_\tstart_char=75|end_char=88|ner=O\n",
      "11\tmodelling\tmodelling\tNOUN\tNN\tNumber=Sing\t7\tobl\t_\tstart_char=89|end_char=98|ner=O\n",
      "12\tof\tof\tADP\tIN\t_\t14\tcase\t_\tstart_char=99|end_char=101|ner=O\n",
      "13\tnatural\tnatural\tADJ\tJJ\tDegree=Pos\t14\tamod\t_\tstart_char=102|end_char=109|ner=O\n",
      "14\tlanguage\tlanguage\tNOUN\tNN\tNumber=Sing\t11\tnmod\t_\tstart_char=110|end_char=118|ner=O\n",
      "15\t,\t,\tPUNCT\t,\t_\t20\tpunct\t_\tstart_char=118|end_char=119|ner=O\n",
      "16\tas\tas\tADV\tRB\t_\t20\tcc\t_\tstart_char=120|end_char=122|ner=O\n",
      "17\twell\twell\tADV\tRB\tDegree=Pos\t16\tfixed\t_\tstart_char=123|end_char=127|ner=O\n",
      "18\tas\tas\tADP\tIN\t_\t16\tfixed\t_\tstart_char=128|end_char=130|ner=O\n",
      "19\tthe\tthe\tDET\tDT\tDefinite=Def|PronType=Art\t20\tdet\t_\tstart_char=131|end_char=134|ner=O\n",
      "20\tstudy\tstudy\tNOUN\tNN\tNumber=Sing\t11\tconj\t_\tstart_char=135|end_char=140|ner=O\n",
      "21\tof\tof\tADP\tIN\t_\t24\tcase\t_\tstart_char=141|end_char=143|ner=O\n",
      "22\tappropriate\tappropriate\tADJ\tJJ\tDegree=Pos\t24\tamod\t_\tstart_char=144|end_char=155|ner=O\n",
      "23\tcomputational\tcomputational\tADJ\tJJ\tDegree=Pos\t24\tamod\t_\tstart_char=156|end_char=169|ner=O\n",
      "24\tapproaches\tapproach\tNOUN\tNNS\tNumber=Plur\t20\tnmod\t_\tstart_char=170|end_char=180|ner=O\n",
      "25\tto\tto\tADP\tIN\t_\t27\tcase\t_\tstart_char=181|end_char=183|ner=O\n",
      "26\tlinguistic\tlinguistic\tADJ\tJJ\tDegree=Pos\t27\tamod\t_\tstart_char=184|end_char=194|ner=O\n",
      "27\tquestions\tquestion\tNOUN\tNNS\tNumber=Plur\t24\tnmod\t_\tstart_char=195|end_char=204|ner=O\n",
      "28\t.\t.\tPUNCT\t.\t_\t6\tpunct\t_\tstart_char=204|end_char=205|ner=O\n",
      "1\tIn\tin\tADP\tIN\t_\t2\tcase\t_\tstart_char=206|end_char=208|ner=O\n",
      "2\tgeneral\tgeneral\tADJ\tJJ\tDegree=Pos\t6\tobl\t_\tstart_char=209|end_char=216|ner=O\n",
      "3\t,\t,\tPUNCT\t,\t_\t2\tpunct\t_\tstart_char=216|end_char=217|ner=O\n",
      "4\tcomputational\tcomputational\tADJ\tJJ\tDegree=Pos\t5\tamod\t_\tstart_char=218|end_char=231|ner=O\n",
      "5\tlinguistics\tlinguistics\tNOUN\tNN\tNumber=Sing\t6\tnsubj\t_\tstart_char=232|end_char=243|ner=O\n",
      "6\tdraws\tdraw\tVERB\tVBZ\tMood=Ind|Number=Sing|Person=3|Tense=Pres|VerbForm=Fin\t0\troot\t_\tstart_char=244|end_char=249|ner=O\n",
      "7\tupon\tupon\tADP\tIN\t_\t8\tcase\t_\tstart_char=250|end_char=254|ner=O\n",
      "8\tlinguistics\tlinguistics\tNOUN\tNN\tNumber=Sing\t6\tobl\t_\tstart_char=255|end_char=266|ner=O\n",
      "9\t,\t,\tPUNCT\t,\t_\t11\tpunct\t_\tstart_char=266|end_char=267|ner=O\n",
      "10\tcomputer\tcomputer\tNOUN\tNN\tNumber=Sing\t11\tcompound\t_\tstart_char=268|end_char=276|ner=O\n",
      "11\tscience\tscience\tNOUN\tNN\tNumber=Sing\t8\tconj\t_\tstart_char=277|end_char=284|ner=O\n",
      "12\t,\t,\tPUNCT\t,\t_\t14\tpunct\t_\tstart_char=284|end_char=285|ner=O\n",
      "13\tartificial\tartificial\tADJ\tJJ\tDegree=Pos\t14\tamod\t_\tstart_char=286|end_char=296|ner=O\n",
      "14\tintelligence\tintelligence\tNOUN\tNN\tNumber=Sing\t8\tconj\t_\tstart_char=297|end_char=309|ner=O\n",
      "15\t,\t,\tPUNCT\t,\t_\t16\tpunct\t_\tstart_char=309|end_char=310|ner=O\n",
      "16\tmathematics\tmathematics\tNOUN\tNN\tNumber=Sing\t8\tconj\t_\tstart_char=311|end_char=322|ner=O\n",
      "17\t,\t,\tPUNCT\t,\t_\t18\tpunct\t_\tstart_char=322|end_char=323|ner=O\n",
      "18\tlogic\tlogic\tNOUN\tNN\tNumber=Sing\t8\tconj\t_\tstart_char=324|end_char=329|ner=O\n",
      "19\t,\t,\tPUNCT\t,\t_\t20\tpunct\t_\tstart_char=329|end_char=330|ner=O\n",
      "20\tphilosophy\tphilosophy\tNOUN\tNN\tNumber=Sing\t8\tconj\t_\tstart_char=331|end_char=341|ner=O\n",
      "21\t,\t,\tPUNCT\t,\t_\t23\tpunct\t_\tstart_char=341|end_char=342|ner=O\n",
      "22\tcognitive\tcognitive\tADJ\tJJ\tDegree=Pos\t23\tamod\t_\tstart_char=343|end_char=352|ner=O\n",
      "23\tscience\tscience\tNOUN\tNN\tNumber=Sing\t8\tconj\t_\tstart_char=353|end_char=360|ner=O\n",
      "24\t,\t,\tPUNCT\t,\t_\t26\tpunct\t_\tstart_char=360|end_char=361|ner=O\n",
      "25\tcognitive\tcognitive\tADJ\tJJ\tDegree=Pos\t26\tamod\t_\tstart_char=362|end_char=371|ner=O\n",
      "26\tpsychology\tpsychology\tNOUN\tNN\tNumber=Sing\t8\tconj\t_\tstart_char=372|end_char=382|ner=O\n",
      "27\t,\t,\tPUNCT\t,\t_\t28\tpunct\t_\tstart_char=382|end_char=383|ner=O\n",
      "28\tpsycholinguistics\tpsycholinguistics\tNOUN\tNN\tNumber=Sing\t8\tconj\t_\tstart_char=384|end_char=401|ner=O\n",
      "29\t,\t,\tPUNCT\t,\t_\t30\tpunct\t_\tstart_char=401|end_char=402|ner=O\n",
      "30\tanthropology\tanthropology\tNOUN\tNN\tNumber=Sing\t8\tconj\t_\tstart_char=403|end_char=415|ner=O\n",
      "31\tand\tand\tCCONJ\tCC\t_\t32\tcc\t_\tstart_char=416|end_char=419|ner=O\n",
      "32\tneuroscience\tneuroscience\tNOUN\tNN\tNumber=Sing\t8\tconj\t_\tstart_char=420|end_char=432|ner=O\n",
      "33\t,\t,\tPUNCT\t,\t_\t35\tpunct\t_\tstart_char=432|end_char=433|ner=O\n",
      "34\tamong\tamong\tADP\tIN\t_\t35\tcase\t_\tstart_char=434|end_char=439|ner=O\n",
      "35\tothers\tother\tNOUN\tNNS\tNumber=Plur\t8\tnmod\t_\tstart_char=440|end_char=446|ner=O\n",
      "36\t.\t.\tPUNCT\t.\t_\t6\tpunct\t_\tstart_char=446|end_char=447|ner=O\n",
      "1\tTraditionally\ttraditionally\tADV\tRB\t_\t5\tadvmod\t_\tstart_char=448|end_char=461|ner=O\n",
      "2\t,\t,\tPUNCT\t,\t_\t1\tpunct\t_\tstart_char=461|end_char=462|ner=O\n",
      "3\tcomputational\tcomputational\tADJ\tJJ\tDegree=Pos\t4\tamod\t_\tstart_char=463|end_char=476|ner=O\n",
      "4\tlinguistics\tlinguistics\tNOUN\tNN\tNumber=Sing\t5\tnsubj\t_\tstart_char=477|end_char=488|ner=O\n",
      "5\temerged\temerge\tVERB\tVBD\tMood=Ind|Number=Sing|Person=3|Tense=Past|VerbForm=Fin\t0\troot\t_\tstart_char=489|end_char=496|ner=O\n",
      "6\tas\tas\tADP\tIN\t_\t8\tcase\t_\tstart_char=497|end_char=499|ner=O\n",
      "7\tan\ta\tDET\tDT\tDefinite=Ind|PronType=Art\t8\tdet\t_\tstart_char=500|end_char=502|ner=O\n",
      "8\tarea\tarea\tNOUN\tNN\tNumber=Sing\t5\tobl\t_\tstart_char=503|end_char=507|ner=O\n",
      "9\tof\tof\tADP\tIN\t_\t11\tcase\t_\tstart_char=508|end_char=510|ner=O\n",
      "10\tartificial\tartificial\tADJ\tJJ\tDegree=Pos\t11\tamod\t_\tstart_char=511|end_char=521|ner=O\n",
      "11\tintelligence\tintelligence\tNOUN\tNN\tNumber=Sing\t8\tnmod\t_\tstart_char=522|end_char=534|ner=O\n",
      "12\tperformed\tperform\tVERB\tVBN\tTense=Past|VerbForm=Part\t11\tacl\t_\tstart_char=535|end_char=544|ner=O\n",
      "13\tby\tby\tADP\tIN\t_\t15\tcase\t_\tstart_char=545|end_char=547|ner=O\n",
      "14\tcomputer\tcomputer\tNOUN\tNN\tNumber=Sing\t15\tcompound\t_\tstart_char=548|end_char=556|ner=O\n",
      "15\tscientists\tscientist\tNOUN\tNNS\tNumber=Plur\t12\tobl:agent\t_\tstart_char=557|end_char=567|ner=O\n",
      "16\twho\twho\tPRON\tWP\tPronType=Rel\t18\tnsubj\t_\tstart_char=568|end_char=571|ner=O\n",
      "17\thad\thave\tAUX\tVBD\tMood=Ind|Number=Plur|Person=3|Tense=Past|VerbForm=Fin\t18\taux\t_\tstart_char=572|end_char=575|ner=O\n",
      "18\tspecialized\tspecialize\tVERB\tVBN\tTense=Past|VerbForm=Part\t15\tacl:relcl\t_\tstart_char=576|end_char=587|ner=O\n",
      "19\tin\tin\tADP\tIN\t_\t21\tcase\t_\tstart_char=588|end_char=590|ner=O\n",
      "20\tthe\tthe\tDET\tDT\tDefinite=Def|PronType=Art\t21\tdet\t_\tstart_char=591|end_char=594|ner=O\n",
      "21\tapplication\tapplication\tNOUN\tNN\tNumber=Sing\t18\tobl\t_\tstart_char=595|end_char=606|ner=O\n",
      "22\tof\tof\tADP\tIN\t_\t23\tcase\t_\tstart_char=607|end_char=609|ner=O\n",
      "23\tcomputers\tcomputer\tNOUN\tNNS\tNumber=Plur\t21\tnmod\t_\tstart_char=610|end_char=619|ner=O\n",
      "24\tto\tto\tADP\tIN\t_\t26\tcase\t_\tstart_char=620|end_char=622|ner=O\n",
      "25\tthe\tthe\tDET\tDT\tDefinite=Def|PronType=Art\t26\tdet\t_\tstart_char=623|end_char=626|ner=O\n",
      "26\tprocessing\tprocessing\tNOUN\tNN\tNumber=Sing\t18\tobl\t_\tstart_char=627|end_char=637|ner=O\n",
      "27\tof\tof\tADP\tIN\t_\t30\tcase\t_\tstart_char=638|end_char=640|ner=O\n",
      "28\ta\ta\tDET\tDT\tDefinite=Ind|PronType=Art\t30\tdet\t_\tstart_char=641|end_char=642|ner=O\n",
      "29\tnatural\tnatural\tADJ\tJJ\tDegree=Pos\t30\tamod\t_\tstart_char=643|end_char=650|ner=O\n",
      "30\tlanguage\tlanguage\tNOUN\tNN\tNumber=Sing\t26\tnmod\t_\tstart_char=651|end_char=659|ner=O\n",
      "31\t.\t.\tPUNCT\t.\t_\t5\tpunct\t_\tstart_char=659|end_char=660|ner=O\n"
     ]
    }
   ],
   "source": [
    "conll = stanza.utils.conll.CoNLL.convert_dict(doc.to_dict())\n",
    "for sentence in conll[0:3]:\n",
    "    for token in sentence:\n",
    "        print(\"\\t\".join(token))"
   ]
  },
  {
   "cell_type": "markdown",
   "metadata": {},
   "source": [
    "im CoNLL-Format in Datei speichern:"
   ]
  },
  {
   "cell_type": "code",
   "execution_count": 15,
   "metadata": {},
   "outputs": [],
   "source": [
    "stanza.utils.conll.CoNLL.write_doc2conll(doc, \"../data/cl-stanza.conllu\")"
   ]
  },
  {
   "cell_type": "markdown",
   "metadata": {},
   "source": [
    "## SoMaJo & SoMeWeTa\n",
    "\n",
    "SoMaJo benötigt keine weiteren Dateien. SoMeWeTa braucht ein vortrainiertes Sprachmodell. Fürs Englische stehen uns zwei zur Auswahl (eins auf der GitHub-Seite, eins, das auch auf Web-Texten trainiert wurde, auf StudOn).\n",
    "\n",
    "Für SoMaJo initialisiert man den Tagger folgendermaßen:"
   ]
  },
  {
   "cell_type": "code",
   "execution_count": null,
   "metadata": {},
   "outputs": [],
   "source": [
    "model = \"../data/english_newspaper_2017-09-15.model\"  # needs this file in this directory, d'uh\n",
    "asptagger = someweta.ASPTagger()\n",
    "asptagger.load(model)  # takes some time"
   ]
  },
  {
   "cell_type": "markdown",
   "metadata": {},
   "source": [
    "Für den Tokenisierer wird zunächst ein `SoMaJo`-Objekt erzeugt, das folgende Funktionen bereitstellt: `tokenize_text`, `tokenize_text_file`, `tokenize_xml` und `tokenize_xml_file`."
   ]
  },
  {
   "cell_type": "code",
   "execution_count": null,
   "metadata": {},
   "outputs": [],
   "source": [
    "tokenizer = somajo.SoMaJo(language=\"en_PTB\")"
   ]
  },
  {
   "cell_type": "markdown",
   "metadata": {},
   "source": [
    "Zum Tokenisieren wählen wir `tokenize_text()`, da unser Text bereits als Liste von Absätzen vorliegt."
   ]
  },
  {
   "cell_type": "code",
   "execution_count": null,
   "metadata": {},
   "outputs": [],
   "source": [
    "sentences = list(tokenizer.tokenize_text(paragraphs))\n",
    "len(sentences)"
   ]
  },
  {
   "cell_type": "code",
   "execution_count": null,
   "metadata": {},
   "outputs": [],
   "source": [
    "[token.text for token in sentences[0]]"
   ]
  },
  {
   "cell_type": "markdown",
   "metadata": {},
   "source": [
    "### Output\n",
    "Das CoNLL-Format lohnt sich hier wahrscheinlich nicht (könnten wir natürlich trotzdem wählen, wir müssten bloß in viele Felder `_` schreiben). Wir belassen es mal bei der Angabe von Token und Wortart, jeweils tab-separiert auf einer Zeile. Zwischen Sätzen fügen wir Leerzeilen ein."
   ]
  },
  {
   "cell_type": "code",
   "execution_count": null,
   "metadata": {},
   "outputs": [],
   "source": [
    "for sentence in sentences:\n",
    "    tokens = [token.text for token in sentence]\n",
    "    tagged_sentence = asptagger.tag_sentence(tokens)\n",
    "    print(\"\\n\".join(\"\\t\".join(t) for t in tagged_sentence), \"\\n\", sep=\"\")"
   ]
  },
  {
   "cell_type": "code",
   "execution_count": null,
   "metadata": {},
   "outputs": [],
   "source": [
    "import gzip\n",
    "with gzip.open(\"../data/cl-somajo-someweta.vrt.gz\", \"wt\") as f:\n",
    "    f.write(\"<text>\\n\")\n",
    "    for sentence in sentences:\n",
    "        tokens = [token.text for token in sentence]\n",
    "        tagged_sentence = asptagger.tag_sentence(tokens)\n",
    "        f.write(\"<s>\\n\")\n",
    "        f.write(\"\\n\".join(\"\\t\".join(t) for t in tagged_sentence) + \"\\n\")\n",
    "        f.write(\"</s>\\n\")\n",
    "    f.write(\"</text>\\n\")"
   ]
  },
  {
   "cell_type": "markdown",
   "metadata": {
    "tags": []
   },
   "source": [
    "### spaCy\n",
    "\n",
    "Vortrainierte spaCy-Modelle sind für viele Sprachen verfügbar (siehe https://spacy.io/models). Im Gegensatz zu Stanza und SoMeWeTa werden die Modelle als normale pip-Pakete installiert und nicht automatisch ins Home-Verzeichnis des Nutzers heruntergeladen. Daher muss die Installation auf der Kommandozeile vorgenommen werden.  Wir verwenden hier ein relativ kleines, für CPU optimiertes Modell mit word embeddings ([en_core_web_md](https://spacy.io/models/en#en_core_web_md)).\n",
    "\n",
    "```\n",
    "python3.9 -m spacy download en_core_web_sm\n",
    "```"
   ]
  },
  {
   "cell_type": "markdown",
   "metadata": {},
   "source": [
    "Wir können nun das spaCy-Paket und dieses Modell laden:"
   ]
  },
  {
   "cell_type": "code",
   "execution_count": null,
   "metadata": {},
   "outputs": [],
   "source": [
    "import spacy\n",
    "pipeline2 = spacy.load(\"en_core_web_sm\")\n",
    "print(pipeline2.component_names)"
   ]
  },
  {
   "cell_type": "markdown",
   "metadata": {},
   "source": [
    "`pipeline2` führt die komplette Pipeline mit allen enthaltenen Komponenten aus. Beim Aufruf können nicht benötigte Komponenten mit dem Argument `disable` übersprungen werden."
   ]
  },
  {
   "cell_type": "code",
   "execution_count": null,
   "metadata": {},
   "outputs": [],
   "source": [
    "# doc2 = pipeline2(test, disable=[\"lemmatizer\", \"ner\"])\n",
    "doc2 = pipeline2(\"\\n\".join(paragraphs))"
   ]
  },
  {
   "cell_type": "markdown",
   "metadata": {},
   "source": [
    "### Output und Visualisierung\n",
    "\n",
    "Nun kann über die einzelnen Token des Textes komplett oder satzweise iteriert werden:"
   ]
  },
  {
   "cell_type": "code",
   "execution_count": null,
   "metadata": {},
   "outputs": [],
   "source": [
    "for sent in list(doc2.sents)[0:2]:\n",
    "    print(\"# \" + sent.text)\n",
    "    for tok in sent:\n",
    "        print(tok.i, tok.orth_, tok.lemma_, tok.pos_, tok.tag_, tok.ent_type_,\n",
    "              tok.dep_, tok.head.lemma_, tok.shape_, \"OOV\" if tok.is_oov else \"_\", sep=\"\\t\")\n",
    "    print()"
   ]
  },
  {
   "cell_type": "markdown",
   "metadata": {},
   "source": [
    "Alle _noun chunks_ (minimale Nominalphrasen) und Entitäten (_named entitites_) im Text:"
   ]
  },
  {
   "cell_type": "code",
   "execution_count": null,
   "metadata": {},
   "outputs": [],
   "source": [
    "print(list(doc2.noun_chunks)[0:10])  # basic noun chunks"
   ]
  },
  {
   "cell_type": "code",
   "execution_count": null,
   "metadata": {},
   "outputs": [],
   "source": [
    "for ne in doc2.ents[0:10]:\n",
    "    print(f\"{ne.text} [{ne.label_}]\")"
   ]
  },
  {
   "cell_type": "markdown",
   "metadata": {
    "tags": []
   },
   "source": [
    "Entitäten und die Dependenz-Parses können auch direkt mit spaCy **visualisiert** werden. Das `displacy`-Modul erkennt dabei automatisch, dass es in einem Jupyter-Notebook ausgeführt wird und liefert ein passendes Ausgabeformat."
   ]
  },
  {
   "cell_type": "code",
   "execution_count": null,
   "metadata": {},
   "outputs": [],
   "source": [
    "from spacy import displacy\n",
    "displacy.render(list(doc2.sents)[12:18], style=\"ent\")"
   ]
  },
  {
   "cell_type": "code",
   "execution_count": null,
   "metadata": {},
   "outputs": [],
   "source": [
    "render_style = {'compact': False, 'distance': 120, 'word_spacing': 20, 'arrow_spacing': 10}\n",
    "displacy.render(list(doc2.sents)[0], style=\"dep\", options=render_style)"
   ]
  }
 ],
 "metadata": {
  "kernelspec": {
   "display_name": "venv",
   "language": "python",
   "name": "venv"
  },
  "language_info": {
   "codemirror_mode": {
    "name": "ipython",
    "version": 3
   },
   "file_extension": ".py",
   "mimetype": "text/x-python",
   "name": "python",
   "nbconvert_exporter": "python",
   "pygments_lexer": "ipython3",
   "version": "3.9.5"
  }
 },
 "nbformat": 4,
 "nbformat_minor": 4
}
