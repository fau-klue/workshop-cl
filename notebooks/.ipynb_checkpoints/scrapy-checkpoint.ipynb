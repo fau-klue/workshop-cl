{
 "cells": [
  {
   "cell_type": "markdown",
   "metadata": {},
   "source": [
    "# Webscraping mit Scrapy"
   ]
  },
  {
   "cell_type": "markdown",
   "metadata": {},
   "source": [
    "## Einleitung\n",
    "Mit *Scraping* meint man in der Regel die Informationsextraktion aus Dokumenten. Von *Crawling* spricht man dagegen, wenn man auf einer Seite gefundene Links wiederum automatisch aufruft (und auf den gefundenen Seiten ggf. wieder usw.).\n",
    "\n",
    "**Scrapy** ist ein sehr mächtiges Framework zum Scrapen und Crawlen von Websites.\n",
    "\n",
    "Wir wollen uns hier zunächst damit vertraut machen, wie wir Informationen aus einem einzelnen Dokument extrahieren können."
   ]
  },
  {
   "cell_type": "markdown",
   "metadata": {},
   "source": [
    "Der DataCamp-Kurs zu Scrapy (https://campus.datacamp.com/courses/web-scraping-with-python) ist einsteigerfreundlich und sehr empfehlenswert!"
   ]
  },
  {
   "cell_type": "markdown",
   "metadata": {},
   "source": [
    "## Setup\n",
    "Eine Installationsanleitung für Scrapy gibt es hier: https://docs.scrapy.org/en/latest/intro/install.html\n",
    "\n",
    "Unter Linux oder MacOs sollte es sich leicht via pip installieren lassen, für Windows bietet sich Anaconda an (https://docs.anaconda.com/anaconda/install/windows/).\n",
    "\n",
    "Wir importieren erst einmal nur den Teil, den wir hier brauchen."
   ]
  },
  {
   "cell_type": "code",
   "execution_count": 1,
   "metadata": {},
   "outputs": [],
   "source": [
    "from scrapy import Selector"
   ]
  },
  {
   "cell_type": "markdown",
   "metadata": {},
   "source": [
    "`blurbs_dev_edit.txt` ist eine XML-Datei, die Kurzbeschreibungen und Metadaten von Büchern aus dem Verlagsprogramm von Random House enthält. Gedacht ist sie eigentlich für eine Klassifikationsaufgabe im Rahmen von *GermEval* (siehe https://www.inf.uni-hamburg.de/en/inst/ab/lt/resources/data/germeval-2019-hmc.html), aber wir zweckentfremden sie hier etwas. "
   ]
  },
  {
   "cell_type": "code",
   "execution_count": 3,
   "metadata": {},
   "outputs": [],
   "source": [
    "import gzip\n",
    "with gzip.open('../data/blurbs.xml.gz') as f:\n",
    "    xml = f.read()"
   ]
  },
  {
   "cell_type": "markdown",
   "metadata": {},
   "source": [
    "Um mit Scrapy damit arbeiten zu können, müssen wir einen `Selector` erstellen. Beim tatsächlichen Scrapen von Webseiten müssen wir das nicht mehr explizit tun."
   ]
  },
  {
   "cell_type": "code",
   "execution_count": 4,
   "metadata": {},
   "outputs": [
    {
     "name": "stdout",
     "output_type": "stream",
     "text": [
      "<Selector xpath=None data='<books>\\n<book date=\"2019-01-04\" xml:l...'>\n"
     ]
    }
   ],
   "source": [
    "sel = Selector(text=xml, type=\"xml\")\n",
    "print(sel)        "
   ]
  },
  {
   "cell_type": "markdown",
   "metadata": {},
   "source": [
    "## XPath\n",
    "Die *XML Path Language* ist eine Abfragesprache, um auf Baumbestandteile eines XML-Dokuments zuzugreifen. Sie wird u.a. in XSLT (für XML-Transformationen) und XQuery (Abfragesprache für XML-Datenbanken) verwendet.\n",
    "\n",
    "Alternativ kann man mit Scrapy auch *CSS Locators* verwenden (siehe z.B. DataCamp-Kurs). Diese machen insbesondere die Auswahl nach Klassen oder IDs etwas einfacher.\n",
    "\n",
    "### Grundlagen\n",
    "Cheat Sheet (mit Vergleich zu CSS-Selektoren): https://devhints.io/xpath\n",
    "\n",
    "Auch ganz schön: https://wiki.selfhtml.org/wiki/XML/XSL/XPath\n",
    "\n",
    "- Navigation mit Schrägstrichen wie bei Dateipfaden\n",
    "- Schrägstrich am Anfang: Wurzel\n",
    "- Zwei Schrägstriche am Anfang: Suche im ganzen Dokument\n",
    "- Schrägstriche im Pfad:\n",
    "    - `/element1/element2` => wähle `element2`, wenn es *direkt* von `element1` abhängt\n",
    "    - `/element1//element2` => wähle `element2`, wenn es *irgendwo* unterhalb von `element1` vorkommt\n",
    "- `@attribut`: Wert des Attributs\n",
    "    - `//a/@href` => Werte aller `href`-Attribute von `a`-Elementen im Dokument (also alle Links in einem HTML-Dokument)\n",
    "- `element/text()`: Textinhalt des Elements\n",
    "- `element//text()`: Textinhalt des Elements und von Unterelementen\n",
    "- Genauere Auswahl mittels eckiger Klammern:\n",
    "    - Zahl: n-tes Element\n",
    "    - `@attribut=\"wert\"`: nur Elemente, bei denen das genannte Attribut den genannten Wert annimmt (Achtung: gerade bei class-Attributen können hier auch mehrere Klassennamen stehen – damit die Elemente gefunden werden, muss der komplette String übereinstimmen)\n",
    "    - `contains(@attribut, \"wert\")`: String \"wert\" im genannten Attribut enthalten\n",
    "- Wildcards:\n",
    "    - `*` => egal, welches Element\n",
    "    - `@*` => egal, welches Attribut\n",
    "    - `node()` => egal, welche Node (Vorsicht!)\n",
    "- Und noch einiges mehr ...\n",
    "\n",
    "### Beispiele\n",
    "#### Das zweite Buch auswählen\n",
    "Achtung, XPath beginnt beim Zählen nicht wie Python bei 0, sondern bei 1!"
   ]
  },
  {
   "cell_type": "code",
   "execution_count": 5,
   "metadata": {},
   "outputs": [
    {
     "name": "stdout",
     "output_type": "stream",
     "text": [
      "[<Selector xpath='/books/book[2]' data='<book date=\"2019-01-04\" xml:lang=\"de\"...'>]\n"
     ]
    }
   ],
   "source": [
    "book2 = sel.xpath('/books/book[2]')\n",
    "print(book2)"
   ]
  },
  {
   "cell_type": "markdown",
   "metadata": {},
   "source": [
    "Die Rückgabe ist wieder ein `Selector`-Objekt. Wenn der XPath-Ausdruck auf mehrere Elemente passt, erhält man stattdessen ein `SelectorList`-Objekt, also eine Liste von `Selector`-Objekten.\n",
    "\n",
    "Mit `get()` (oder `extract_first()`) erhält man das erste Element als String. Mit `getall()` (oder `extract()`) erhält man alle Elemente als Liste von Strings."
   ]
  },
  {
   "cell_type": "code",
   "execution_count": 6,
   "metadata": {},
   "outputs": [
    {
     "name": "stdout",
     "output_type": "stream",
     "text": [
      "<book date=\"2019-01-04\" xml:lang=\"de\">\n",
      "<title>Das Buch der Schatten - Schwarze Seelen</title>\n",
      "<body>Als Morgan von einer prophetischen Vision heimgesucht wird, brechen sie und Hunter nach New York auf. Dort scheint ein dunkler Hexenclan Böses zu planen und der Anführer ist niemand Geringeren als Ciaran – der Seelenverwandte und Mörder von Morgans leiblicher Mutter. Auf wen hat er es diesmal abgesehen? Ein Wolfsjunges war in Morgans Vision das Opfer – ein Symbol für ein Kind? Morgan und Hunter setzen alles daran, dieses Kind zu beschützen …</body>\n",
      "<copyright>(c) Verlagsgruppe Random House GmbH</copyright>\n",
      "<categories>\n",
      "<category>\n",
      "<topic d=\"0\">Kinderbuch &amp; Jugendbuch</topic>\n",
      "<topic d=\"1\" label=\"True\">Echtes Leben, Realistischer Roman</topic>\n",
      "</category>\n",
      "<category>\n",
      "<topic d=\"0\">Kinderbuch &amp; Jugendbuch</topic>\n",
      "<topic d=\"1\" label=\"True\">Geister- und Gruselgeschichten</topic>\n",
      "</category>\n",
      "<category>\n",
      "<topic d=\"0\">Kinderbuch &amp; Jugendbuch</topic>\n",
      "<topic d=\"1\" label=\"True\">Fantasy und Science Fiction</topic>\n",
      "</category>\n",
      "</categories>\n",
      "<authors>Cate Tiernan</authors>\n",
      "<published>2013-06-10</published>\n",
      "<isbn>9783570380093</isbn>\n",
      "<url>https://www.randomhouse.de/Taschenbuch/Das-Buch-der-Schatten-Schwarze-Seelen/Cate-Tiernan/cbj-Jugendbuecher/e368945.rhd%0A</url>\n",
      "</book>\n"
     ]
    }
   ],
   "source": [
    "print(book2.get())"
   ]
  },
  {
   "cell_type": "code",
   "execution_count": 7,
   "metadata": {},
   "outputs": [
    {
     "name": "stdout",
     "output_type": "stream",
     "text": [
      "['<book date=\"2019-01-04\" xml:lang=\"de\">\\n<title>Das Buch der Schatten - Schwarze Seelen</title>\\n<body>Als Morgan von einer prophetischen Vision heimgesucht wird, brechen sie und Hunter nach New York auf. Dort scheint ein dunkler Hexenclan Böses zu planen und der Anführer ist niemand Geringeren als Ciaran – der Seelenverwandte und Mörder von Morgans leiblicher Mutter. Auf wen hat er es diesmal abgesehen? Ein Wolfsjunges war in Morgans Vision das Opfer – ein Symbol für ein Kind? Morgan und Hunter setzen alles daran, dieses Kind zu beschützen …</body>\\n<copyright>(c) Verlagsgruppe Random House GmbH</copyright>\\n<categories>\\n<category>\\n<topic d=\"0\">Kinderbuch &amp; Jugendbuch</topic>\\n<topic d=\"1\" label=\"True\">Echtes Leben, Realistischer Roman</topic>\\n</category>\\n<category>\\n<topic d=\"0\">Kinderbuch &amp; Jugendbuch</topic>\\n<topic d=\"1\" label=\"True\">Geister- und Gruselgeschichten</topic>\\n</category>\\n<category>\\n<topic d=\"0\">Kinderbuch &amp; Jugendbuch</topic>\\n<topic d=\"1\" label=\"True\">Fantasy und Science Fiction</topic>\\n</category>\\n</categories>\\n<authors>Cate Tiernan</authors>\\n<published>2013-06-10</published>\\n<isbn>9783570380093</isbn>\\n<url>https://www.randomhouse.de/Taschenbuch/Das-Buch-der-Schatten-Schwarze-Seelen/Cate-Tiernan/cbj-Jugendbuecher/e368945.rhd%0A</url>\\n</book>']\n"
     ]
    }
   ],
   "source": [
    "print(book2.getall())"
   ]
  },
  {
   "cell_type": "markdown",
   "metadata": {},
   "source": [
    "Dasselbe Element hätten wir in diesem Fall auch so erhalten können:"
   ]
  },
  {
   "cell_type": "code",
   "execution_count": 13,
   "metadata": {},
   "outputs": [
    {
     "name": "stdout",
     "output_type": "stream",
     "text": [
      "<book date=\"2019-01-04\" xml:lang=\"de\">\n",
      "<title>Das Buch der Schatten - Schwarze Seelen</title>\n",
      "<body>Als Morgan von einer prophetischen Vision heimgesucht wird, brechen sie und Hunter nach New York auf. Dort scheint ein dunkler Hexenclan Böses zu planen und der Anführer ist niemand Geringeren als Ciaran – der Seelenverwandte und Mörder von Morgans leiblicher Mutter. Auf wen hat er es diesmal abgesehen? Ein Wolfsjunges war in Morgans Vision das Opfer – ein Symbol für ein Kind? Morgan und Hunter setzen alles daran, dieses Kind zu beschützen …</body>\n",
      "<copyright>(c) Verlagsgruppe Random House GmbH</copyright>\n",
      "<categories>\n",
      "<category>\n",
      "<topic d=\"0\">Kinderbuch &amp; Jugendbuch</topic>\n",
      "<topic d=\"1\" label=\"True\">Echtes Leben, Realistischer Roman</topic>\n",
      "</category>\n",
      "<category>\n",
      "<topic d=\"0\">Kinderbuch &amp; Jugendbuch</topic>\n",
      "<topic d=\"1\" label=\"True\">Geister- und Gruselgeschichten</topic>\n",
      "</category>\n",
      "<category>\n",
      "<topic d=\"0\">Kinderbuch &amp; Jugendbuch</topic>\n",
      "<topic d=\"1\" label=\"True\">Fantasy und Science Fiction</topic>\n",
      "</category>\n",
      "</categories>\n",
      "<authors>Cate Tiernan</authors>\n",
      "<published>2013-06-10</published>\n",
      "<isbn>9783570380093</isbn>\n",
      "<url>https://www.randomhouse.de/Taschenbuch/Das-Buch-der-Schatten-Schwarze-Seelen/Cate-Tiernan/cbj-Jugendbuecher/e368945.rhd%0A</url>\n",
      "</book>\n"
     ]
    }
   ],
   "source": [
    "book2 = sel.xpath('//book[2]')\n",
    "print(book2.get())"
   ]
  },
  {
   "cell_type": "markdown",
   "metadata": {},
   "source": [
    "#### Verknüpfen von Selektoren\n",
    "Hier, um die Texte der `<topic>`-Elemente zu erhalten:"
   ]
  },
  {
   "cell_type": "code",
   "execution_count": 14,
   "metadata": {},
   "outputs": [
    {
     "name": "stdout",
     "output_type": "stream",
     "text": [
      "['Kinderbuch & Jugendbuch', 'Echtes Leben, Realistischer Roman', 'Kinderbuch & Jugendbuch', 'Geister- und Gruselgeschichten', 'Kinderbuch & Jugendbuch', 'Fantasy und Science Fiction']\n"
     ]
    }
   ],
   "source": [
    "topics = book2.xpath('.//topic/text()')\n",
    "print(topics.getall())"
   ]
  },
  {
   "cell_type": "markdown",
   "metadata": {},
   "source": [
    "Der Punkt ist bei XPath wichtig – sonst wird nicht verknüpft, sondern wieder im ganzen Dokument gesucht!"
   ]
  },
  {
   "cell_type": "markdown",
   "metadata": {},
   "source": [
    "Jedes Element `<category>` hat ein Kindelement `<topic>`, das die feinste, genaueste Kategorie angibt. Dieses Element hat das Attribut `label` mit dem Wert `True`. Um also für `book2` nur die genauesten Kategorien zu erhalten:"
   ]
  },
  {
   "cell_type": "code",
   "execution_count": 15,
   "metadata": {},
   "outputs": [
    {
     "name": "stdout",
     "output_type": "stream",
     "text": [
      "['Echtes Leben, Realistischer Roman', 'Geister- und Gruselgeschichten', 'Fantasy und Science Fiction']\n"
     ]
    }
   ],
   "source": [
    "spec_topics = book2.xpath('.//topic[@label = \"True\"]/text()')\n",
    "print(spec_topics.getall())"
   ]
  },
  {
   "cell_type": "markdown",
   "metadata": {},
   "source": [
    "Alternativ hätten wir auch `last()` verwenden können, um das jeweils letzte Element zu suchen. Mit der Suche nach bestimmten Attributwerten ist der Bezug aber vermutlich klarer."
   ]
  },
  {
   "cell_type": "code",
   "execution_count": 16,
   "metadata": {},
   "outputs": [
    {
     "name": "stdout",
     "output_type": "stream",
     "text": [
      "['Echtes Leben, Realistischer Roman', 'Geister- und Gruselgeschichten', 'Fantasy und Science Fiction']\n"
     ]
    }
   ],
   "source": [
    "spec_topics = book2.xpath('.//topic[last()]/text()')\n",
    "print(spec_topics.getall())"
   ]
  },
  {
   "cell_type": "markdown",
   "metadata": {},
   "source": [
    "Um umgekehrt die Oberkategorien für ein bestimmtes Buch zu erhalten, können wir auf das Attribut `d` zurückgreifen (das ergibt z.T. Dopplungen):"
   ]
  },
  {
   "cell_type": "code",
   "execution_count": 11,
   "metadata": {},
   "outputs": [
    {
     "name": "stdout",
     "output_type": "stream",
     "text": [
      "['Ratgeber', 'Ganzheitliches Bewusstsein', 'Ratgeber', 'Ganzheitliches Bewusstsein']\n"
     ]
    }
   ],
   "source": [
    "print(sel.xpath('/books/book[98]/categories/category/topic[@d = \"0\"]/text()').getall())"
   ]
  },
  {
   "cell_type": "markdown",
   "metadata": {},
   "source": [
    "#### Wie viele ISBNs sind im Dokument?"
   ]
  },
  {
   "cell_type": "code",
   "execution_count": 17,
   "metadata": {},
   "outputs": [
    {
     "data": {
      "text/plain": [
       "2079"
      ]
     },
     "execution_count": 17,
     "metadata": {},
     "output_type": "execute_result"
    }
   ],
   "source": [
    "isbns = sel.xpath('//isbn/text()')\n",
    "len(isbns)"
   ]
  },
  {
   "cell_type": "markdown",
   "metadata": {},
   "source": [
    "#### Textabgleich\n",
    "Suche nach einer bestimmten ISBN:"
   ]
  },
  {
   "cell_type": "code",
   "execution_count": 18,
   "metadata": {},
   "outputs": [
    {
     "data": {
      "text/plain": [
       "[<Selector xpath='//isbn[text() = \"9783734161131\"]' data='<isbn>9783734161131</isbn>'>]"
      ]
     },
     "execution_count": 18,
     "metadata": {},
     "output_type": "execute_result"
    }
   ],
   "source": [
    "sel.xpath('//isbn[text() = \"9783734161131\"]')"
   ]
  },
  {
   "cell_type": "markdown",
   "metadata": {},
   "source": [
    "Wie viele Bücher haben das Label \"Große Gefühle\"?"
   ]
  },
  {
   "cell_type": "code",
   "execution_count": 19,
   "metadata": {},
   "outputs": [
    {
     "name": "stdout",
     "output_type": "stream",
     "text": [
      "59\n"
     ]
    }
   ],
   "source": [
    "gg = sel.xpath('//book[.//topic/text() = \"Große Gefühle\"]') # Vorsicht: ohne Punkt werden alle Bücher zurückgegeben\n",
    "print(len(gg))"
   ]
  },
  {
   "cell_type": "markdown",
   "metadata": {},
   "source": [
    "Erster Treffer davon:"
   ]
  },
  {
   "cell_type": "code",
   "execution_count": 20,
   "metadata": {},
   "outputs": [
    {
     "name": "stdout",
     "output_type": "stream",
     "text": [
      "<book date=\"2019-01-04\" xml:lang=\"de\">\n",
      "<title>Die erste Nacht</title>\n",
      "<body>Aus Keiras und Adrians Begegnung ist Liebe geworden, aus ihren Forschungen über den Ursprung der Welt ein verhängnisvolles Chaos. Als Keira im chinesischen Gelben Fluss verunglückt, ist für Adrian alles verloren. Aber dann erhält er einen Hinweis darauf, dass die Frau, die er liebt, noch am Leben sein könnte. Voller Hoffnung macht er sich auf die Suche nach ihr. Doch dunkle Mächte walten im Hintergrund, und Adrian muss sich zwischen seiner Liebe und der Suche nach der Wahrheit entscheiden …</body>\n",
      "<copyright>(c) Verlagsgruppe Random House GmbH</copyright>\n",
      "<categories>\n",
      "<category>\n",
      "<topic d=\"0\">Literatur &amp; Unterhaltung</topic>\n",
      "<topic d=\"1\">Frauenunterhaltung</topic>\n",
      "<topic d=\"2\" label=\"True\">Große Gefühle</topic>\n",
      "</category>\n",
      "<category>\n",
      "<topic d=\"0\">Literatur &amp; Unterhaltung</topic>\n",
      "<topic d=\"1\" label=\"True\">Romane &amp; Erzählungen</topic>\n",
      "</category>\n",
      "</categories>\n",
      "<authors>Marc Levy</authors>\n",
      "<published>2012-01-16</published>\n",
      "<isbn>9783442376599</isbn>\n",
      "<url>https://www.randomhouse.de/Taschenbuch/Die-erste-Nacht/Marc-Levy/Blanvalet-Taschenbuch/e356163.rhd%0A</url>\n",
      "</book>\n"
     ]
    }
   ],
   "source": [
    "print(gg.get())"
   ]
  },
  {
   "cell_type": "markdown",
   "metadata": {},
   "source": [
    "Welche Bücher enthalten irgendwo in der Beschreibung das Wort *Schildkröte*?"
   ]
  },
  {
   "cell_type": "code",
   "execution_count": 21,
   "metadata": {},
   "outputs": [
    {
     "name": "stdout",
     "output_type": "stream",
     "text": [
      "<book date=\"2019-01-04\" xml:lang=\"de\">\n",
      "<title>Was hör ich da? Unsere Haustiere</title>\n",
      "<body>Alle Kinder wünschen sich ein Haustier, auch Anton und Lena. Doch welches soll es sein? Ein Hund, eine Katze oder ein Meerschweinchen? Bis sich die Geschwister entscheiden können, hüten sie erst einmal Willi, den Hund ihrer Nachbarin, und lernen viele andere Tiere beim Tierarzt und in der Tierhandlung kennen – auch so exotische wie einen Papagei oder eine Schildkröte. Dabei erfahren sie viel über die Pflege von Haustieren und hören ganz unterschiedliche Tierstimmen: das Schnurren einer Katze, das Quieken von Meerschweinchen, Hundegebell und vieles mehr.</body>\n",
      "<copyright>(c) Verlagsgruppe Random House GmbH</copyright>\n",
      "<categories>\n",
      "<category>\n",
      "<topic d=\"0\">Kinderbuch &amp; Jugendbuch</topic>\n",
      "<topic d=\"1\" label=\"True\">Abenteuer</topic>\n",
      "</category>\n",
      "<category>\n",
      "<topic d=\"0\">Kinderbuch &amp; Jugendbuch</topic>\n",
      "<topic d=\"1\" label=\"True\">Echtes Leben, Realistischer Roman</topic>\n",
      "</category>\n",
      "</categories>\n",
      "<authors>Rainer Bielfeldt, Otto Senn</authors>\n",
      "<published>2014-08-11</published>\n",
      "<isbn>9783844513608</isbn>\n",
      "<url>https://www.randomhouse.de/Hoerbuch/Was-hoer-ich-da-Unsere-Haustiere/Rainer-Bielfeldt/der-Hoerverlag/e442255.rhd%0A</url>\n",
      "</book>\n",
      "\n",
      "<book date=\"2019-01-04\" xml:lang=\"de\">\n",
      "<title>Fünf Freunde und das Schildkrötengeheimnis</title>\n",
      "<body>Band 55: Fünf Freunde und das Schildkrötengeheimnis Kaninchen, Mäuse, Hamster – die Zoohandlung in der Nachbarschaft der Fünf Freunde gleicht jeder anderen. Allerdings nur auf den ersten Blick! Denn beim Herumstöbern stoßen die Fünf auf eine ungewöhnliche Schildkröte und markerschütternde Schreie dringen aus dem Keller. Was verbirgt der Tierhändler dort? Handelt er etwa mit artgeschützten Exoten? In einer waghalsigen Nacht- und Nebelaktion inspizieren die Fünf Freunde den Laden und machen eine entsetzliche Entdeckung …</body>\n",
      "<copyright>(c) Verlagsgruppe Random House GmbH</copyright>\n",
      "<categories>\n",
      "<category>\n",
      "<topic d=\"0\">Kinderbuch &amp; Jugendbuch</topic>\n",
      "<topic d=\"1\" label=\"True\">Liebe, Beziehung und Freundschaft</topic>\n",
      "</category>\n",
      "<category>\n",
      "<topic d=\"0\">Kinderbuch &amp; Jugendbuch</topic>\n",
      "<topic d=\"1\" label=\"True\">Abenteuer</topic>\n",
      "</category>\n",
      "<category>\n",
      "<topic d=\"0\">Kinderbuch &amp; Jugendbuch</topic>\n",
      "<topic d=\"1\" label=\"True\">Echtes Leben, Realistischer Roman</topic>\n",
      "</category>\n",
      "<category>\n",
      "<topic d=\"0\">Kinderbuch &amp; Jugendbuch</topic>\n",
      "<topic d=\"1\" label=\"True\">Detektivgeschichten</topic>\n",
      "</category>\n",
      "</categories>\n",
      "<authors>Enid Blyton</authors>\n",
      "<published>2008-08-27</published>\n",
      "<isbn>9783570131732</isbn>\n",
      "<url>https://www.randomhouse.de/Buch/Fuenf-Freunde-und-das-Schildkroetengeheimnis/Enid-Blyton/cbj-Kinderbuecher/e212570.rhd%0A</url>\n",
      "</book>\n",
      "\n"
     ]
    }
   ],
   "source": [
    "sk = sel.xpath('//book[.//body[contains(text(), \"Schildkröte\")]]')\n",
    "for buch in sk.getall():\n",
    "    print(buch)\n",
    "    print()"
   ]
  },
  {
   "cell_type": "markdown",
   "metadata": {},
   "source": [
    "#### Verknüpfung von Bedingungen\n",
    "Wie viele Bücher haben als Labels \"Fantasy\" oder \"Science Fiction\"?"
   ]
  },
  {
   "cell_type": "code",
   "execution_count": 23,
   "metadata": {},
   "outputs": [
    {
     "data": {
      "text/plain": [
       "278"
      ]
     },
     "execution_count": 23,
     "metadata": {},
     "output_type": "execute_result"
    }
   ],
   "source": [
    "scifi_fantasy = sel.xpath('//book[.//topic/text() = \"Fantasy\" or .//topic/text() = \"Science Fiction\"]')\n",
    "len(scifi_fantasy)"
   ]
  },
  {
   "cell_type": "markdown",
   "metadata": {},
   "source": [
    "Und wie viele Bücher haben *beide* Labels?"
   ]
  },
  {
   "cell_type": "code",
   "execution_count": 24,
   "metadata": {},
   "outputs": [
    {
     "data": {
      "text/plain": [
       "3"
      ]
     },
     "execution_count": 24,
     "metadata": {},
     "output_type": "execute_result"
    }
   ],
   "source": [
    "scifi_fantasy = sel.xpath('//book[.//topic/text() = \"Fantasy\" and .//topic/text() = \"Science Fiction\"]')\n",
    "len(scifi_fantasy)"
   ]
  },
  {
   "cell_type": "code",
   "execution_count": 25,
   "metadata": {},
   "outputs": [
    {
     "name": "stdout",
     "output_type": "stream",
     "text": [
      "<book date=\"2019-01-04\" xml:lang=\"de\">\n",
      "<title>Armageddon Rock</title>\n",
      "<body>1971 wird Peter Hobbins, der Sänger der legendären Rockband Nazgûl, während eines Konzerts auf offener Bühne erschossen. Zehn Jahre später gehen die übrigen Bandmitglieder, begleitet von dem abgebrannten Musikjournalisten Sandy Blair, wieder auf Tour. Doch noch während die Nazgûl ein furioses Comeback feiern, geschehen mehrere bestialische Morde. Sandy beginnt Fragen zu stellen, und schnell wird ihm klar, dass es bei den Konzerten der Band nicht mit rechten Dingen zugeht …</body>\n",
      "<copyright>(c) Verlagsgruppe Random House GmbH</copyright>\n",
      "<categories>\n",
      "<category>\n",
      "<topic d=\"0\">Literatur &amp; Unterhaltung</topic>\n",
      "<topic d=\"1\">Science Fiction</topic>\n",
      "<topic d=\"2\" label=\"True\">Phantastik</topic>\n",
      "</category>\n",
      "<category>\n",
      "<topic d=\"0\">Literatur &amp; Unterhaltung</topic>\n",
      "<topic d=\"1\" label=\"True\">Fantasy</topic>\n",
      "</category>\n",
      "</categories>\n",
      "<authors>George R.R. Martin</authors>\n",
      "<published>2016-11-14</published>\n",
      "<isbn>9783453318052</isbn>\n",
      "<url>https://www.randomhouse.de/Taschenbuch/Armageddon-Rock/George-R.R.-Martin/Heyne/e506957.rhd%0A</url>\n",
      "</book>\n"
     ]
    }
   ],
   "source": [
    "print(scifi_fantasy.get())"
   ]
  }
 ],
 "metadata": {
  "kernelspec": {
   "display_name": "Python 3 (ipykernel)",
   "language": "python",
   "name": "python3"
  },
  "language_info": {
   "codemirror_mode": {
    "name": "ipython",
    "version": 3
   },
   "file_extension": ".py",
   "mimetype": "text/x-python",
   "name": "python",
   "nbconvert_exporter": "python",
   "pygments_lexer": "ipython3",
   "version": "3.9.5"
  }
 },
 "nbformat": 4,
 "nbformat_minor": 4
}
